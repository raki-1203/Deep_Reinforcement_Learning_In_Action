{
 "cells": [
  {
   "cell_type": "markdown",
   "id": "e68b026d-c3a3-40fe-865a-468e6cf38952",
   "metadata": {},
   "source": [
    "# Chapter 3 - Deep Q-learning\n",
    "\n",
    "**Deep Reinforcement Learning __in Action__**"
   ]
  },
  {
   "cell_type": "markdown",
   "id": "91c32ac1-a3cc-427d-8192-8c3246cedae7",
   "metadata": {},
   "source": [
    "## 2. Q 학습 개요"
   ]
  },
  {
   "cell_type": "markdown",
   "id": "c2bc5195-3958-4fe4-8003-e46fc4efe999",
   "metadata": {},
   "source": [
    "### 2.6 Gridworld 게임 엔진 소개"
   ]
  },
  {
   "cell_type": "markdown",
   "id": "fd952536-2773-445b-bd62-71e4661ef547",
   "metadata": {},
   "source": [
    "#### Listing 3.1  Gridworld 게임 생성"
   ]
  },
  {
   "cell_type": "code",
   "execution_count": 1,
   "id": "27e9e34e-4da9-4c15-93fb-c6e1eeef1617",
   "metadata": {},
   "outputs": [],
   "source": [
    "from Gridworld import Gridworld"
   ]
  },
  {
   "cell_type": "code",
   "execution_count": 2,
   "id": "7ec0ac4b-7906-4f85-935c-4f2854cf2af1",
   "metadata": {},
   "outputs": [],
   "source": [
    "game = Gridworld(size=4, mode='static')"
   ]
  },
  {
   "cell_type": "code",
   "execution_count": 3,
   "id": "b01a0556-043c-4a9b-9cde-c786672ef0be",
   "metadata": {},
   "outputs": [
    {
     "data": {
      "text/plain": [
       "array([['+', '-', ' ', 'P'],\n",
       "       [' ', 'W', ' ', ' '],\n",
       "       [' ', ' ', ' ', ' '],\n",
       "       [' ', ' ', ' ', ' ']], dtype='<U2')"
      ]
     },
     "execution_count": 3,
     "metadata": {},
     "output_type": "execute_result"
    }
   ],
   "source": [
    "game.display()"
   ]
  },
  {
   "cell_type": "code",
   "execution_count": 4,
   "id": "512fe9c1-32e5-484a-9750-422eaf1f5f93",
   "metadata": {},
   "outputs": [],
   "source": [
    "game.makeMove('d')"
   ]
  },
  {
   "cell_type": "code",
   "execution_count": 5,
   "id": "67eaa7a8-9d75-4ae0-b610-4336cfef9469",
   "metadata": {},
   "outputs": [
    {
     "data": {
      "text/plain": [
       "array([['+', '-', ' ', ' '],\n",
       "       [' ', 'W', ' ', 'P'],\n",
       "       [' ', ' ', ' ', ' '],\n",
       "       [' ', ' ', ' ', ' ']], dtype='<U2')"
      ]
     },
     "execution_count": 5,
     "metadata": {},
     "output_type": "execute_result"
    }
   ],
   "source": [
    "game.display()"
   ]
  },
  {
   "cell_type": "code",
   "execution_count": 6,
   "id": "e67c218b-0850-4eea-9766-f0ca82e1a07e",
   "metadata": {},
   "outputs": [],
   "source": [
    "game.makeMove('d')"
   ]
  },
  {
   "cell_type": "code",
   "execution_count": 7,
   "id": "8be6da26-12ae-4edf-91d8-011f8f7b01ea",
   "metadata": {},
   "outputs": [
    {
     "data": {
      "text/plain": [
       "array([['+', '-', ' ', ' '],\n",
       "       [' ', 'W', ' ', ' '],\n",
       "       [' ', ' ', ' ', 'P'],\n",
       "       [' ', ' ', ' ', ' ']], dtype='<U2')"
      ]
     },
     "execution_count": 7,
     "metadata": {},
     "output_type": "execute_result"
    }
   ],
   "source": [
    "game.display()"
   ]
  },
  {
   "cell_type": "code",
   "execution_count": 8,
   "id": "9c31c109-f3f6-44e5-86ae-5f29995985d8",
   "metadata": {},
   "outputs": [],
   "source": [
    "game.makeMove('l')"
   ]
  },
  {
   "cell_type": "code",
   "execution_count": 9,
   "id": "92b4d135-1f03-415f-ad0e-41b8ed5b7bdb",
   "metadata": {},
   "outputs": [
    {
     "data": {
      "text/plain": [
       "array([['+', '-', ' ', ' '],\n",
       "       [' ', 'W', ' ', ' '],\n",
       "       [' ', ' ', 'P', ' '],\n",
       "       [' ', ' ', ' ', ' ']], dtype='<U2')"
      ]
     },
     "execution_count": 9,
     "metadata": {},
     "output_type": "execute_result"
    }
   ],
   "source": [
    "game.display()"
   ]
  },
  {
   "cell_type": "code",
   "execution_count": 10,
   "id": "75922d05-0bd0-480e-afdf-f70be7e14c32",
   "metadata": {},
   "outputs": [
    {
     "data": {
      "text/plain": [
       "-1"
      ]
     },
     "execution_count": 10,
     "metadata": {},
     "output_type": "execute_result"
    }
   ],
   "source": [
    "game.reward()"
   ]
  },
  {
   "cell_type": "code",
   "execution_count": 11,
   "id": "8ba8b489-607e-4551-9836-17a5a710e944",
   "metadata": {},
   "outputs": [
    {
     "data": {
      "text/plain": [
       "array([[[0, 0, 0, 0],\n",
       "        [0, 0, 0, 0],\n",
       "        [0, 0, 1, 0],\n",
       "        [0, 0, 0, 0]],\n",
       "\n",
       "       [[1, 0, 0, 0],\n",
       "        [0, 0, 0, 0],\n",
       "        [0, 0, 0, 0],\n",
       "        [0, 0, 0, 0]],\n",
       "\n",
       "       [[0, 1, 0, 0],\n",
       "        [0, 0, 0, 0],\n",
       "        [0, 0, 0, 0],\n",
       "        [0, 0, 0, 0]],\n",
       "\n",
       "       [[0, 0, 0, 0],\n",
       "        [0, 1, 0, 0],\n",
       "        [0, 0, 0, 0],\n",
       "        [0, 0, 0, 0]]], dtype=uint8)"
      ]
     },
     "execution_count": 11,
     "metadata": {},
     "output_type": "execute_result"
    }
   ],
   "source": [
    "game.board.render_np()"
   ]
  },
  {
   "cell_type": "code",
   "execution_count": 12,
   "id": "62a1f6b3-4948-4793-a9c9-f5935a89e430",
   "metadata": {},
   "outputs": [
    {
     "data": {
      "text/plain": [
       "(4, 4, 4)"
      ]
     },
     "execution_count": 12,
     "metadata": {},
     "output_type": "execute_result"
    }
   ],
   "source": [
    "game.board.render_np().shape"
   ]
  },
  {
   "cell_type": "markdown",
   "id": "5fd15bce-0f90-4c9b-bd66-776e06816b3f",
   "metadata": {},
   "source": [
    "### 2.7 Q 함수 역할을 하는 신경망"
   ]
  },
  {
   "cell_type": "markdown",
   "id": "83368abe-601f-4b43-a97b-873b9079254c",
   "metadata": {},
   "source": [
    "#### Listing 3.2 심층 신경망 Q 함수"
   ]
  },
  {
   "cell_type": "code",
   "execution_count": 13,
   "id": "a56ee545-1a97-4411-9f40-03cab219604a",
   "metadata": {},
   "outputs": [],
   "source": [
    "import numpy as np\n",
    "import torch\n",
    "import random\n",
    "\n",
    "from Gridworld import Gridworld\n",
    "import matplotlib.pyplot as plt"
   ]
  },
  {
   "cell_type": "code",
   "execution_count": 19,
   "id": "db513348-2f5f-40d3-b97b-f6904e0d9c3e",
   "metadata": {},
   "outputs": [],
   "source": [
    "l1 = 64\n",
    "l2 = 150\n",
    "l3 = 100\n",
    "l4 = 4\n",
    "\n",
    "model = torch.nn.Sequential(\n",
    "    torch.nn.Linear(l1, l2),\n",
    "    torch.nn.ReLU(),\n",
    "    torch.nn.Linear(l2, l3),\n",
    "    torch.nn.ReLU(),\n",
    "    torch.nn.Linear(l3, l4)\n",
    ")\n",
    "\n",
    "loss_fn = torch.nn.MSELoss()\n",
    "learning_rate = 1e-3\n",
    "optimizer = torch.optim.Adam(model.parameters(), lr=learning_rate)\n",
    "\n",
    "gamma = 0.9\n",
    "epsilon = 1.0"
   ]
  },
  {
   "cell_type": "code",
   "execution_count": 20,
   "id": "d9b55c77-61d6-42d1-af2e-f1da5cdc7c85",
   "metadata": {},
   "outputs": [],
   "source": [
    "action_set = {\n",
    "    0: 'u',\n",
    "    1: 'd',\n",
    "    2: 'l',\n",
    "    3: 'r',\n",
    "}"
   ]
  },
  {
   "cell_type": "markdown",
   "id": "6ea9f7f8-ecd9-4dab-80b1-2e6f4c803118",
   "metadata": {
    "tags": []
   },
   "source": [
    "#### Listing 3.3 Q 학습 : 주 훈련 루프"
   ]
  },
  {
   "cell_type": "code",
   "execution_count": 22,
   "id": "1870aa00-cd54-42db-abae-a6a367c715f8",
   "metadata": {},
   "outputs": [],
   "source": [
    "epochs = 1000\n",
    "losses = []  # 손실값들을 담을 목록. 나중에 추세 그래프를 그리는 데 사용한다.\n",
    "\n",
    "for i in range(epochs):  # 주 훈련 루프\n",
    "    game = Gridworld(size=4, mode='static')  # 각 훈련 주기에서 새 게임을 시작한다.\n",
    "    state_ = game.board.render_np().reshape(1, 64) + np.random.rand(1, 64) / 10.0  # 게임 인스턴스를 생성한 후 상태 정보를 추출해서 약간의 잡음(무작위 요소)을 추가한다.\n",
    "    state1 = torch.from_numpy(state_).float()  # NumPy 배열을 PyTorch 텐서로 변환해서 새 변수에 설정한다.\n",
    "    status = 1  # status 변수는 게임이 아직 진행 중인지를 나타낻나.\n",
    "    \n",
    "    while status == 1:  # 하나의 게임 에피소드가 끝날 때까지 진행하는 내부 루프이다.\n",
    "        qval = model(state1)  # Q 신경망의 순전파 단계를 실행해서 모든 동장의 Q 가치를 예측한다.\n",
    "        qval_ = qval.data.numpy()  # \n",
    "        if random.random() < epsilon:  # 엡실론 탐욕법을 이용해서 하나의 동작을 선택한다.\n",
    "            action_ = np.random.randint(0, 4)\n",
    "        else:\n",
    "            action_ = np.argmax(qval_)\n",
    "            \n",
    "        action = action_set[action_]  # 선택된 동작의 번호를 Gridworld 게임이 이해하는 동작 문자로 변환한다.\n",
    "        game.makeMove(action)  # 실제로 동작을 수행한다.\n",
    "        state2_ = game.board.render_np().reshape(1, 64) + np.random.rand(1, 64) / 10.0\n",
    "        state2 = torch.from_numpy(state2_).float()  # 게임의 새 상태를 얻는다.\n",
    "        reward = game.reward()\n",
    "        with torch.no_grad():\n",
    "            newQ = model(state2.reshape(1, 64))\n",
    "        maxQ = torch.max(newQ)  # 새 상태로 Q 가치를 얻고 최대 Q 가치를 갱신한다.\n",
    "\n",
    "        if reward == -1:  # 목표 Q 가치를 계산한다.\n",
    "            Y = reward + (gamma * maxQ)\n",
    "        else:\n",
    "            Y = reward\n",
    "        Y = torch.Tensor([Y]).detach()\n",
    "        \n",
    "        X = qval.squeeze()[action_]  # qval 배열(가치 벡터)의 성분 중 현재 동작에 해당하는 성분만 갱신한 배열을 새 변수에 담는다.\n",
    "        \n",
    "        loss = loss_fn(X, Y)\n",
    "        optimizer.zero_grad()\n",
    "        loss.backward()\n",
    "        losses.append(loss.item())\n",
    "        optimizer.step()\n",
    "        state1 = state2\n",
    "        \n",
    "        if reward != -1:  # 보상이 -1 이 아니면 게임이 끝난 것이다(승리 또는 패배)\n",
    "            status = 0\n",
    "            \n",
    "    if epsilon > 0.1:  # 한 에피소드가 끝날 때마다 엡실론을 감소한다.\n",
    "        epsilon -= (1 / epochs)"
   ]
  },
  {
   "cell_type": "code",
   "execution_count": 23,
   "id": "cb84da33-504c-433e-a71b-2af055895d54",
   "metadata": {},
   "outputs": [
    {
     "data": {
      "image/png": "[encoded data removed]",
      "text/plain": [
       "<Figure size 720x504 with 1 Axes>"
      ]
     },
     "metadata": {
      "needs_background": "light"
     },
     "output_type": "display_data"
    }
   ],
   "source": [
    "plt.figure(figsize=(10, 7))\n",
    "plt.plot(losses)\n",
    "plt.xlabel('Epochs', fontsize=22)\n",
    "plt.ylabel('Loss', fontsize=22)\n",
    "plt.show()"
   ]
  },
  {
   "cell_type": "markdown",
   "id": "e988ebee-d11e-433f-9471-9a5a67b0a3c4",
   "metadata": {},
   "source": [
    "##### PyTorch Automatic Differentiation Review"
   ]
  },
  {
   "cell_type": "code",
   "execution_count": 24,
   "id": "c6c68268-3225-4624-afff-2c9744db5c21",
   "metadata": {},
   "outputs": [],
   "source": [
    "m = torch.Tensor([2.0])\n",
    "m.requires_grad = True\n",
    "b = torch.Tensor([1.0])\n",
    "b.requires_grad = True\n",
    "\n",
    "def linear_model(x, m, b):\n",
    "    y = m @ x + b\n",
    "    return y"
   ]
  },
  {
   "cell_type": "code",
   "execution_count": 25,
   "id": "b92e0b06-886c-4a14-9181-c3161f99d164",
   "metadata": {},
   "outputs": [
    {
     "data": {
      "text/plain": [
       "tensor([9.], grad_fn=<AddBackward0>)"
      ]
     },
     "execution_count": 25,
     "metadata": {},
     "output_type": "execute_result"
    }
   ],
   "source": [
    "y = linear_model(torch.Tensor([4.]), m, b)\n",
    "y"
   ]
  },
  {
   "cell_type": "code",
   "execution_count": 26,
   "id": "ddbc1a72-1839-4c23-a7b9-a7189104f451",
   "metadata": {},
   "outputs": [
    {
     "data": {
      "text/plain": [
       "<AddBackward0 at 0x7f6255a3a1d0>"
      ]
     },
     "execution_count": 26,
     "metadata": {},
     "output_type": "execute_result"
    }
   ],
   "source": [
    "y.grad_fn"
   ]
  },
  {
   "cell_type": "code",
   "execution_count": 28,
   "id": "69bec311-4b4a-4579-8435-1c384c8be871",
   "metadata": {},
   "outputs": [
    {
     "data": {
      "text/plain": [
       "tensor([9.])"
      ]
     },
     "execution_count": 28,
     "metadata": {},
     "output_type": "execute_result"
    }
   ],
   "source": [
    "with torch.no_grad():\n",
    "    y = linear_model(torch.Tensor([4.]), m, b)\n",
    "    \n",
    "y"
   ]
  },
  {
   "cell_type": "code",
   "execution_count": 29,
   "id": "ee72d1f6-3f22-4324-a76f-8ff547042890",
   "metadata": {},
   "outputs": [],
   "source": [
    "y.grad_fn"
   ]
  },
  {
   "cell_type": "code",
   "execution_count": 30,
   "id": "4cf120a8-249a-499f-b8b3-f89d4c40505e",
   "metadata": {},
   "outputs": [],
   "source": [
    "y = linear_model(torch.Tensor([4.]), m, b)"
   ]
  },
  {
   "cell_type": "code",
   "execution_count": 31,
   "id": "a014ef33-33a9-468e-8300-cda57be3e940",
   "metadata": {},
   "outputs": [],
   "source": [
    "y.backward()"
   ]
  },
  {
   "cell_type": "code",
   "execution_count": 33,
   "id": "b70e20be-f2cf-419c-a917-5af5212ead28",
   "metadata": {},
   "outputs": [
    {
     "data": {
      "text/plain": [
       "tensor([4.])"
      ]
     },
     "execution_count": 33,
     "metadata": {},
     "output_type": "execute_result"
    }
   ],
   "source": [
    "m.grad"
   ]
  },
  {
   "cell_type": "code",
   "execution_count": 34,
   "id": "c85eaa64-a5a8-4778-840f-c74fc65ac16c",
   "metadata": {},
   "outputs": [
    {
     "data": {
      "text/plain": [
       "tensor([1.])"
      ]
     },
     "execution_count": 34,
     "metadata": {},
     "output_type": "execute_result"
    }
   ],
   "source": [
    "b.grad"
   ]
  },
  {
   "cell_type": "markdown",
   "id": "331bfa30-2457-40e3-aac2-61bda2f19b30",
   "metadata": {},
   "source": [
    "#### Listing 3.4  Q 신경망 시험용 함수"
   ]
  },
  {
   "cell_type": "code",
   "execution_count": 38,
   "id": "90bbedf5-39d9-4505-af62-b8fa039157d0",
   "metadata": {},
   "outputs": [],
   "source": [
    "def test_model(model, mode='static', display=True):\n",
    "    i = 0\n",
    "    test_game = Gridworld(mode=mode)\n",
    "    state_ = test_game.board.render_np().reshape(1, 64) + np.random.rand(1, 64) / 10.0\n",
    "    state = torch.from_numpy(state_).float()\n",
    "    \n",
    "    if display:\n",
    "        print('Initial State:')\n",
    "        print(test_game.display())\n",
    "        \n",
    "    status = 1\n",
    "    while status == 1:  # 게임이 끝날 때까지 반복한다.\n",
    "        qval = model(state)\n",
    "        qval_ = qval.data.numpy()\n",
    "        action_ = np.argmax(qval_)  # Q 가치가 가장 높은 동작을 선택한다.\n",
    "        action = action_set[action_]\n",
    "        if display:\n",
    "            print('Move #: %s; Taking action: %s' % (i, action))\n",
    "        test_game.makeMove(action)\n",
    "        state_ = test_game.board.render_np().reshape(1, 64) + np.random.rand(1, 64) / 10.0\n",
    "        state = torch.from_numpy(state_).float()\n",
    "        if display:\n",
    "            print(test_game.display())\n",
    "        \n",
    "        reward = test_game.reward()\n",
    "        if reward != -1:\n",
    "            if reward > 0:\n",
    "                status = 2\n",
    "                if display:\n",
    "                    print('Game won! Reward: %s' % (reward, ))\n",
    "            else:\n",
    "                status = 0\n",
    "                if display:\n",
    "                    print('Game LOST. Reward: %s' % (reward, ))\n",
    "                    \n",
    "        i += 1\n",
    "        if (i > 15):\n",
    "            if display:\n",
    "                print('Game lost; too many moves.')\n",
    "            break\n",
    "    win = True if status == 2 else False\n",
    "    return win"
   ]
  },
  {
   "cell_type": "code",
   "execution_count": 39,
   "id": "49e93bf0-088c-4e63-811a-6011c7a40e3d",
   "metadata": {},
   "outputs": [
    {
     "name": "stdout",
     "output_type": "stream",
     "text": [
      "Initial State:\n",
      "[['+' '-' ' ' 'P']\n",
      " [' ' 'W' ' ' ' ']\n",
      " [' ' ' ' ' ' ' ']\n",
      " [' ' ' ' ' ' ' ']]\n",
      "Move #: 0; Taking action: d\n",
      "[['+' '-' ' ' ' ']\n",
      " [' ' 'W' ' ' 'P']\n",
      " [' ' ' ' ' ' ' ']\n",
      " [' ' ' ' ' ' ' ']]\n",
      "Move #: 1; Taking action: d\n",
      "[['+' '-' ' ' ' ']\n",
      " [' ' 'W' ' ' ' ']\n",
      " [' ' ' ' ' ' 'P']\n",
      " [' ' ' ' ' ' ' ']]\n",
      "Move #: 2; Taking action: l\n",
      "[['+' '-' ' ' ' ']\n",
      " [' ' 'W' ' ' ' ']\n",
      " [' ' ' ' 'P' ' ']\n",
      " [' ' ' ' ' ' ' ']]\n",
      "Move #: 3; Taking action: l\n",
      "[['+' '-' ' ' ' ']\n",
      " [' ' 'W' ' ' ' ']\n",
      " [' ' 'P' ' ' ' ']\n",
      " [' ' ' ' ' ' ' ']]\n",
      "Move #: 4; Taking action: l\n",
      "[['+' '-' ' ' ' ']\n",
      " [' ' 'W' ' ' ' ']\n",
      " ['P' ' ' ' ' ' ']\n",
      " [' ' ' ' ' ' ' ']]\n",
      "Move #: 5; Taking action: u\n",
      "[['+' '-' ' ' ' ']\n",
      " ['P' 'W' ' ' ' ']\n",
      " [' ' ' ' ' ' ' ']\n",
      " [' ' ' ' ' ' ' ']]\n",
      "Move #: 6; Taking action: u\n",
      "[['+' '-' ' ' ' ']\n",
      " [' ' 'W' ' ' ' ']\n",
      " [' ' ' ' ' ' ' ']\n",
      " [' ' ' ' ' ' ' ']]\n",
      "Game won! Reward: 10\n"
     ]
    },
    {
     "data": {
      "text/plain": [
       "True"
      ]
     },
     "execution_count": 39,
     "metadata": {},
     "output_type": "execute_result"
    }
   ],
   "source": [
    "test_model(model, 'static')"
   ]
  },
  {
   "cell_type": "code",
   "execution_count": 40,
   "id": "91f0ea1d-8826-4179-acbe-38ac73e52a64",
   "metadata": {},
   "outputs": [
    {
     "name": "stdout",
     "output_type": "stream",
     "text": [
      "Initial State:\n",
      "[[' ' 'P' ' ' 'W']\n",
      " ['-' ' ' ' ' ' ']\n",
      " [' ' ' ' ' ' ' ']\n",
      " ['+' ' ' ' ' ' ']]\n",
      "Move #: 0; Taking action: d\n",
      "[[' ' ' ' ' ' 'W']\n",
      " ['-' 'P' ' ' ' ']\n",
      " [' ' ' ' ' ' ' ']\n",
      " ['+' ' ' ' ' ' ']]\n",
      "Move #: 1; Taking action: d\n",
      "[[' ' ' ' ' ' 'W']\n",
      " ['-' ' ' ' ' ' ']\n",
      " [' ' 'P' ' ' ' ']\n",
      " ['+' ' ' ' ' ' ']]\n",
      "Move #: 2; Taking action: l\n",
      "[[' ' ' ' ' ' 'W']\n",
      " ['-' ' ' ' ' ' ']\n",
      " ['P' ' ' ' ' ' ']\n",
      " ['+' ' ' ' ' ' ']]\n",
      "Move #: 3; Taking action: u\n",
      "[[' ' ' ' ' ' 'W']\n",
      " ['-' ' ' ' ' ' ']\n",
      " [' ' ' ' ' ' ' ']\n",
      " ['+' ' ' ' ' ' ']]\n",
      "Game LOST. Reward: -10\n"
     ]
    },
    {
     "data": {
      "text/plain": [
       "False"
      ]
     },
     "execution_count": 40,
     "metadata": {},
     "output_type": "execute_result"
    }
   ],
   "source": [
    "test_model(model, 'random')"
   ]
  },
  {
   "cell_type": "markdown",
   "id": "80af2563-8b2b-4704-bbf2-aa9b9ebe29f3",
   "metadata": {},
   "source": [
    "##### Random 모드 학습"
   ]
  },
  {
   "cell_type": "code",
   "execution_count": 41,
   "id": "81318823-4090-4f2d-8de6-8c9ca2947908",
   "metadata": {},
   "outputs": [],
   "source": [
    "l1 = 64\n",
    "l2 = 150\n",
    "l3 = 100\n",
    "l4 = 4\n",
    "\n",
    "model = torch.nn.Sequential(\n",
    "    torch.nn.Linear(l1, l2),\n",
    "    torch.nn.ReLU(),\n",
    "    torch.nn.Linear(l2, l3),\n",
    "    torch.nn.ReLU(),\n",
    "    torch.nn.Linear(l3, l4)\n",
    ")\n",
    "\n",
    "loss_fn = torch.nn.MSELoss()\n",
    "learning_rate = 1e-3\n",
    "optimizer = torch.optim.Adam(model.parameters(), lr=learning_rate)\n",
    "\n",
    "gamma = 0.9\n",
    "epsilon = 1.0"
   ]
  },
  {
   "cell_type": "code",
   "execution_count": 45,
   "id": "5e920b60-718e-49e7-b261-be8bb05d136f",
   "metadata": {},
   "outputs": [],
   "source": [
    "from tqdm import tqdm"
   ]
  },
  {
   "cell_type": "code",
   "execution_count": 46,
   "id": "8c06ba6b-2b21-4589-9436-db97f7d42b5b",
   "metadata": {},
   "outputs": [
    {
     "name": "stderr",
     "output_type": "stream",
     "text": [
      "100%|██████████| 20000/20000 [09:08<00:00, 36.44it/s]\n"
     ]
    }
   ],
   "source": [
    "epochs = 20000\n",
    "losses = []  # 손실값들을 담을 목록. 나중에 추세 그래프를 그리는 데 사용한다.\n",
    "\n",
    "for i in tqdm(range(epochs)):  # 주 훈련 루프\n",
    "    game = Gridworld(size=4, mode='random')  # 각 훈련 주기에서 새 게임을 시작한다.\n",
    "    state_ = game.board.render_np().reshape(1, 64) + np.random.rand(1, 64) / 10.0  # 게임 인스턴스를 생성한 후 상태 정보를 추출해서 약간의 잡음(무작위 요소)을 추가한다.\n",
    "    state1 = torch.from_numpy(state_).float()  # NumPy 배열을 PyTorch 텐서로 변환해서 새 변수에 설정한다.\n",
    "    status = 1  # status 변수는 게임이 아직 진행 중인지를 나타낻나.\n",
    "    \n",
    "    while status == 1:  # 하나의 게임 에피소드가 끝날 때까지 진행하는 내부 루프이다.\n",
    "        qval = model(state1)  # Q 신경망의 순전파 단계를 실행해서 모든 동장의 Q 가치를 예측한다.\n",
    "        qval_ = qval.data.numpy()  # \n",
    "        if random.random() < epsilon:  # 엡실론 탐욕법을 이용해서 하나의 동작을 선택한다.\n",
    "            action_ = np.random.randint(0, 4)\n",
    "        else:\n",
    "            action_ = np.argmax(qval_)\n",
    "            \n",
    "        action = action_set[action_]  # 선택된 동작의 번호를 Gridworld 게임이 이해하는 동작 문자로 변환한다.\n",
    "        game.makeMove(action)  # 실제로 동작을 수행한다.\n",
    "        state2_ = game.board.render_np().reshape(1, 64) + np.random.rand(1, 64) / 10.0\n",
    "        state2 = torch.from_numpy(state2_).float()  # 게임의 새 상태를 얻는다.\n",
    "        reward = game.reward()\n",
    "        with torch.no_grad():\n",
    "            newQ = model(state2.reshape(1, 64))\n",
    "        maxQ = torch.max(newQ)  # 새 상태로 Q 가치를 얻고 최대 Q 가치를 갱신한다.\n",
    "\n",
    "        if reward == -1:  # 목표 Q 가치를 계산한다.\n",
    "            Y = reward + (gamma * maxQ)\n",
    "        else:\n",
    "            Y = reward\n",
    "        Y = torch.Tensor([Y]).detach()\n",
    "        \n",
    "        X = qval.squeeze()[action_]  # qval 배열(가치 벡터)의 성분 중 현재 동작에 해당하는 성분만 갱신한 배열을 새 변수에 담는다.\n",
    "        \n",
    "        loss = loss_fn(X, Y)\n",
    "        optimizer.zero_grad()\n",
    "        loss.backward()\n",
    "        losses.append(loss.item())\n",
    "        optimizer.step()\n",
    "        state1 = state2\n",
    "        \n",
    "        if reward != -1:  # 보상이 -1 이 아니면 게임이 끝난 것이다(승리 또는 패배)\n",
    "            status = 0\n",
    "            \n",
    "    if epsilon > 0.1:  # 한 에피소드가 끝날 때마다 엡실론을 감소한다.\n",
    "        epsilon -= (1 / epochs)"
   ]
  },
  {
   "cell_type": "code",
   "execution_count": 47,
   "id": "6a8a1317-d623-4787-a136-616bf3e15c4e",
   "metadata": {},
   "outputs": [
    {
     "data": {
      "image/png": "[encoded data removed]",
      "text/plain": [
       "<Figure size 720x504 with 1 Axes>"
      ]
     },
     "metadata": {
      "needs_background": "light"
     },
     "output_type": "display_data"
    }
   ],
   "source": [
    "plt.figure(figsize=(10, 7))\n",
    "plt.plot(losses)\n",
    "plt.xlabel('Epochs', fontsize=22)\n",
    "plt.ylabel('Loss', fontsize=22)\n",
    "plt.show()"
   ]
  },
  {
   "cell_type": "markdown",
   "id": "b5335c8b-a63e-4cef-84ed-102e25950684",
   "metadata": {},
   "source": [
    "## 3. 파국적 망각 방지: 경험 재현"
   ]
  },
  {
   "cell_type": "markdown",
   "id": "64b5faf3-a51f-4c25-b5af-c2edc1ae1124",
   "metadata": {},
   "source": [
    "### 3.2 경험 재현"
   ]
  },
  {
   "cell_type": "markdown",
   "id": "da0eefff-2154-4647-91cc-709c5e765790",
   "metadata": {},
   "source": [
    "#### Listing 3.5 경험 재현이 추가된 심층 Q 신경망"
   ]
  },
  {
   "cell_type": "code",
   "execution_count": 85,
   "id": "1bac2c7a-54d6-4f36-b794-67e2f44907c5",
   "metadata": {},
   "outputs": [],
   "source": [
    "l1 = 64\n",
    "l2 = 150\n",
    "l3 = 100\n",
    "l4 = 4\n",
    "\n",
    "model = torch.nn.Sequential(\n",
    "    torch.nn.Linear(l1, l2),\n",
    "    torch.nn.ReLU(),\n",
    "    torch.nn.Linear(l2, l3),\n",
    "    torch.nn.ReLU(),\n",
    "    torch.nn.Linear(l3, l4)\n",
    ")\n",
    "\n",
    "loss_fn = torch.nn.MSELoss()\n",
    "learning_rate = 1e-3\n",
    "optimizer = torch.optim.Adam(model.parameters(), lr=learning_rate)\n",
    "\n",
    "gamma = 0.9\n",
    "epsilon = 1.0"
   ]
  },
  {
   "cell_type": "code",
   "execution_count": 86,
   "id": "a814ea31-2118-4a1f-ae2a-08ea49eec990",
   "metadata": {},
   "outputs": [],
   "source": [
    "from collections import deque\n",
    "from IPython.display import clear_output"
   ]
  },
  {
   "cell_type": "code",
   "execution_count": 87,
   "id": "3dc47501-4489-4cea-b09f-ccbadc7def39",
   "metadata": {},
   "outputs": [
    {
     "name": "stdout",
     "output_type": "stream",
     "text": [
      "4999 0.47424402832984924\n"
     ]
    }
   ],
   "source": [
    "epochs = 5000\n",
    "losses = []\n",
    "mem_size = 1000  # 경험 재현 목록의 길이를 설정한다.\n",
    "batch_size = 200  # 미니배치의 크기를 설정한다.\n",
    "replay = deque(maxlen=mem_size)  # deque 객체를 경험 재현 목록으로 사용한다.\n",
    "max_moves = 50  # 게임을 포기하기까지의 최대 이동 횟수를 설정한다.\n",
    "h = 0\n",
    "\n",
    "for i in range(epochs):\n",
    "    game = Gridworld(size=4, mode='random')\n",
    "    state1_ = game.board.render_np().reshape(1, 64) + np.random.rand(1, 64) / 100.0\n",
    "    state1 = torch.from_numpy(state1_).float()\n",
    "    status = 1\n",
    "    mov = 0\n",
    "    while status == 1:\n",
    "        mov += 1\n",
    "        qval = model(state1)  # 현재 상태의 Q 가치(동작 선택에 사용할)를 계산한다.\n",
    "        qval_ = qval.data.numpy()\n",
    "        if random.random() < epsilon:  # 엡실론 탐욕 전략을 이용해서 하나의 동작을 선택한다.\n",
    "            action_ = np.random.randint(0, 4)\n",
    "        else:\n",
    "            action_ = np.argmax(qval_)\n",
    "        action = action_set[action_]\n",
    "        \n",
    "        game.makeMove(action)\n",
    "        state2_ = game.board.render_np().reshape(1, 64) + np.random.rand(1, 64) / 100.0\n",
    "        state2 = torch.from_numpy(state2_).float()\n",
    "        \n",
    "        reward = game.reward()\n",
    "        done = True if reward > 0 else False\n",
    "        exp = (state1, action_, reward, state2, done)  # 현재 상태, 동작, 보상, 다음 상태를 튜플로 묶는다. 이것이 하나의 '경험' 이다.\n",
    "        replay.append(exp)  # 경험을 경험 재현 목록에 추가한다.\n",
    "        state1 = state2\n",
    "        \n",
    "        if len(replay) > batch_size:  # 경험 재현 목록이 미니배치 크기보다 크면 미니배치 훈련을 시작한다.\n",
    "            minibatch = random.sample(replay, batch_size)  # 경험 재현 목록에서 무작위로 하나의 부분집합을 추출한다.\n",
    "            state1_batch = torch.cat([s1 for (s1, a, r, s2, d) in minibatch])  # 경험의 구성 성분들을 종류별로 개별 미니배치 텐서에 넣는다.\n",
    "            action_batch = torch.Tensor([a for (s1, a, r, s2, d) in minibatch])\n",
    "            reward_batch = torch.Tensor([r for (s1, a, r, s2, d) in minibatch])\n",
    "            state2_batch = torch.cat([s2 for (s1, a, r, s2, d) in minibatch])\n",
    "            done_batch = torch.Tensor([d for (s1, a, r, s2, d) in minibatch])\n",
    "         \n",
    "            Q1 = model(state1_batch)  # 현재 상태들의 미니배치로 Q 가치들을 재계산해서 기울기들을 계산한다.\n",
    "            with torch.no_grad():\n",
    "                Q2 = model(state2_batch)  # 다음 상태들의 미니배치로 Q 가치들을 재계산하되 기울기들은 계산하지 않는다.\n",
    "                \n",
    "            Y = reward_batch + gamma * ((1 - done_batch) * torch.max(Q2, dim=1)[0])  # 심층 Q 신경망이 배워야 할 목표 Q 가치들을 계산한다.\n",
    "            X = Q1.gather(dim=1, index=action_batch.long().unsqueeze(dim=1)).squeeze()\n",
    "            \n",
    "            loss = loss_fn(X, Y.detach())\n",
    "            print(i, loss.item())\n",
    "            clear_output(wait=True)\n",
    "            optimizer.zero_grad()\n",
    "            loss.backward()\n",
    "            losses.append(loss.item())\n",
    "            optimizer.step()\n",
    "            \n",
    "        if reward != -1 or mov > max_moves:  # 게임이 끝났으면 현재 학습 상태와 이동 횟수를 초기화한다.\n",
    "            status = 0\n",
    "            mov = 0\n",
    "\n",
    "losses = np.array(losses)"
   ]
  },
  {
   "cell_type": "code",
   "execution_count": 88,
   "id": "85eea94e-03bc-4fab-9e79-943e706c686c",
   "metadata": {},
   "outputs": [
    {
     "data": {
      "image/png": "[encoded data removed]",
      "text/plain": [
       "<Figure size 720x504 with 1 Axes>"
      ]
     },
     "metadata": {
      "needs_background": "light"
     },
     "output_type": "display_data"
    }
   ],
   "source": [
    "plt.figure(figsize=(10, 7))\n",
    "plt.plot(losses)\n",
    "plt.xlabel('Epochs', fontsize=22)\n",
    "plt.ylabel('Loss', fontsize=22)\n",
    "plt.show()"
   ]
  },
  {
   "cell_type": "markdown",
   "id": "2ef8d96b-63fd-4ef0-8d0e-b1f11c96492d",
   "metadata": {},
   "source": [
    "#### Listing 3.6 경험 재현의 성능을 시험하는 스크립트"
   ]
  },
  {
   "cell_type": "code",
   "execution_count": 89,
   "id": "d3aeb4f3-6a23-4249-99ff-62fd4205c3f8",
   "metadata": {},
   "outputs": [
    {
     "name": "stderr",
     "output_type": "stream",
     "text": [
      "100%|██████████| 1000/1000 [00:00<00:00, 1095.59it/s]"
     ]
    },
    {
     "name": "stdout",
     "output_type": "stream",
     "text": [
      "Game played: 1000, # of wins: 499\n",
      "Win percentage: 0.499\n"
     ]
    },
    {
     "name": "stderr",
     "output_type": "stream",
     "text": [
      "\n"
     ]
    }
   ],
   "source": [
    "max_games = 1000\n",
    "wins = 0\n",
    "for i in tqdm(range(max_games)):\n",
    "    win = test_model(model, mode='random', display=False)\n",
    "    if win:\n",
    "        wins += 1\n",
    "    \n",
    "win_perc = float(wins) / float(max_games)\n",
    "print('Game played: {0}, # of wins: {1}'.format(max_games, wins))\n",
    "print('Win percentage: {}'.format(win_perc))"
   ]
  },
  {
   "cell_type": "code",
   "execution_count": 92,
   "id": "67af6a2b-d3db-4497-9b3a-7c15eb822f83",
   "metadata": {},
   "outputs": [
    {
     "name": "stdout",
     "output_type": "stream",
     "text": [
      "Initial State:\n",
      "[[' ' ' ' ' ' ' ']\n",
      " [' ' '+' ' ' 'P']\n",
      " [' ' ' ' ' ' '-']\n",
      " [' ' ' ' ' ' 'W']]\n",
      "Move #: 0; Taking action: l\n",
      "[[' ' ' ' ' ' ' ']\n",
      " [' ' '+' 'P' ' ']\n",
      " [' ' ' ' ' ' '-']\n",
      " [' ' ' ' ' ' 'W']]\n",
      "Move #: 1; Taking action: l\n",
      "[[' ' ' ' ' ' ' ']\n",
      " [' ' '+' ' ' ' ']\n",
      " [' ' ' ' ' ' '-']\n",
      " [' ' ' ' ' ' 'W']]\n",
      "Game won! Reward: 10\n"
     ]
    },
    {
     "data": {
      "text/plain": [
       "True"
      ]
     },
     "execution_count": 92,
     "metadata": {},
     "output_type": "execute_result"
    }
   ],
   "source": [
    "test_model(model, mode='random')"
   ]
  },
  {
   "cell_type": "markdown",
   "id": "0fcfab61-5ceb-434c-bcaf-ec9daeed1bd5",
   "metadata": {},
   "source": [
    "## 4. 목표망을 이용한 안정성 개선"
   ]
  },
  {
   "cell_type": "markdown",
   "id": "45f0832b-0da2-4edf-bb93-21700fbade44",
   "metadata": {},
   "source": [
    "### 4.1 학습 불안정성"
   ]
  },
  {
   "cell_type": "markdown",
   "id": "7ecd8c60-22a2-44ce-a486-62f6f235d89e",
   "metadata": {
    "tags": []
   },
   "source": [
    "#### Listing 3.7  목표망 초기화"
   ]
  },
  {
   "cell_type": "code",
   "execution_count": 93,
   "id": "47615314-d53b-405c-9b26-cfcb5cea24e5",
   "metadata": {},
   "outputs": [],
   "source": [
    "import copy"
   ]
  },
  {
   "cell_type": "code",
   "execution_count": 95,
   "id": "f3298663-3ac1-433e-886d-f59a61ad2288",
   "metadata": {},
   "outputs": [],
   "source": [
    "l1 = 64\n",
    "l2 = 150\n",
    "l3 = 100\n",
    "l4 = 4\n",
    "\n",
    "model = torch.nn.Sequential(\n",
    "    torch.nn.Linear(l1, l2),\n",
    "    torch.nn.ReLU(),\n",
    "    torch.nn.Linear(l2, l3),\n",
    "    torch.nn.ReLU(),\n",
    "    torch.nn.Linear(l3, l4),\n",
    ")\n",
    "\n",
    "model2 = copy.deepcopy(model)\n",
    "model2.load_state_dict(model.state_dict())\n",
    "\n",
    "loss_fn = torch.nn.MSELoss()\n",
    "learning_rate = 1e-3\n",
    "optimizer = torch.optim.Adam(model.parameters(), lr=learning_rate)\n",
    "\n",
    "gamma = 0.9\n",
    "epsilon = 0.3"
   ]
  },
  {
   "cell_type": "markdown",
   "id": "3e3b1bdc-6f51-4cf3-b220-12b5bc0d53b3",
   "metadata": {},
   "source": [
    "#### Listing 3.8 경험 재현과 목표망을 이용한 심층 Q 학습 알고리즘"
   ]
  },
  {
   "cell_type": "code",
   "execution_count": 105,
   "id": "165024b3-8d13-487e-8731-8d51f762bf0a",
   "metadata": {},
   "outputs": [
    {
     "name": "stderr",
     "output_type": "stream",
     "text": [
      "100%|██████████| 5000/5000 [02:19<00:00, 35.76it/s]\n"
     ]
    }
   ],
   "source": [
    "epochs = 5000\n",
    "losses = []\n",
    "mem_size = 1000\n",
    "batch_size = 200\n",
    "replay = deque(maxlen=mem_size)\n",
    "max_moves = 50\n",
    "h = 0\n",
    "sync_freq = 500  # 목표망 갱신 주기를 설정한다. 주 루프는 훈련 500회마다 model 의 매개변수들을 model2 에 복사한다.\n",
    "j = 0\n",
    "\n",
    "for i in range(epochs):\n",
    "    game = Gridworld(size=4, mode='random')\n",
    "    state1_ = game.board.render_np().reshape(1, 64) + np.random.rand(1, 64) / 100.0\n",
    "    state1 = torch.from_numpy(state1_).float()\n",
    "    status = 1\n",
    "    mov = 0\n",
    "    while status == 1:\n",
    "        j += 1\n",
    "        mov += 1\n",
    "        qval = model(state1)\n",
    "        qval_ = qval.data.numpy()\n",
    "        if random.random() < epsilon:\n",
    "            action_ = np.random.randint(0, 4)\n",
    "        else:\n",
    "            action_ = np.argmax(qval_)\n",
    "            \n",
    "        action = action_set[action_]\n",
    "        game.makeMove(action)\n",
    "        state2_ = game.board.render_np().reshape(1, 64) + np.random.rand(1, 64) / 100.0\n",
    "        state2 = torch.from_numpy(state2_).float()\n",
    "        reward = game.reward()\n",
    "        done = True if reward > 0 else False\n",
    "        exp = (state1, action_, reward, state2, done)\n",
    "        replay.append(exp)\n",
    "        state1 = state2\n",
    "        \n",
    "        if len(replay) > batch_size:\n",
    "            minibatch = random.sample(replay, batch_size)\n",
    "            state1_batch = torch.cat([s1 for (s1, a, r, s2, d) in minibatch])\n",
    "            action_batch = torch.Tensor([a for (s1, a, r, s2, d) in minibatch])\n",
    "            reward_batch = torch.Tensor([r for (s1, a, r, s2, d) in minibatch])\n",
    "            state2_batch = torch.cat([s2 for (s1, a, r, s2, d) in minibatch])\n",
    "            done_batch = torch.Tensor([d for (s1, a, r, s2, d) in minibatch])\n",
    "            \n",
    "            Q1 = model(state1_batch)\n",
    "            with torch.no_grad():\n",
    "                Q2 = model2(state2_batch)  # 목표망을 실행해서 다음 상태의 최대 Q 가치를 얻는다.\n",
    "                \n",
    "            Y = reward_batch + gamma * ((1 - done_batch) * torch.max(Q2, dim=1)[0])\n",
    "            X = Q1.gather(dim=1, index=action_batch.long().unsqueeze(dim=1)).squeeze()\n",
    "            loss = loss_fn(X, Y.detach())\n",
    "            print(i, loss.item())\n",
    "            clear_output(wait=True)\n",
    "            optimizer.zero_grad()\n",
    "            loss.backward()\n",
    "            losses.append(loss.item())\n",
    "            optimizer.step()\n",
    "            \n",
    "            if j % sync_freq == 0:  # 주 Q 신경망의 매개변수들을 목표망에 복사한다.\n",
    "                model2.load_state_dict(model.state_dict())\n",
    "                \n",
    "        if reward != -1 or mov > max_moves:\n",
    "            status = 0\n",
    "            mov = 0\n",
    "            \n",
    "losses = np.array(losses)"
   ]
  },
  {
   "cell_type": "code",
   "execution_count": 106,
   "id": "006180f0-7f58-4417-ad07-d91f6752f197",
   "metadata": {},
   "outputs": [
    {
     "data": {
      "image/png": "[encoded data removed]",
      "text/plain": [
       "<Figure size 720x504 with 1 Axes>"
      ]
     },
     "metadata": {
      "needs_background": "light"
     },
     "output_type": "display_data"
    }
   ],
   "source": [
    "plt.figure(figsize=(10, 7))\n",
    "plt.plot(losses)\n",
    "plt.xlabel('Epochs', fontsize=22)\n",
    "plt.ylabel('Loss', fontsize=22)\n",
    "plt.show()"
   ]
  },
  {
   "cell_type": "code",
   "execution_count": 135,
   "id": "fab90993-d840-4066-afad-08ada4c06ff8",
   "metadata": {},
   "outputs": [
    {
     "name": "stderr",
     "output_type": "stream",
     "text": [
      "100%|██████████| 1000/1000 [00:00<00:00, 2604.62it/s]"
     ]
    },
    {
     "name": "stdout",
     "output_type": "stream",
     "text": [
      "Games played: 1000, # of wins: 922\n",
      "Win percentage: 92.2%\n"
     ]
    },
    {
     "name": "stderr",
     "output_type": "stream",
     "text": [
      "\n"
     ]
    }
   ],
   "source": [
    "max_games = 1000\n",
    "wins = 0\n",
    "for i in tqdm(range(max_games)):\n",
    "    win = test_model(model, mode='random', display=False)\n",
    "    if win:\n",
    "        wins += 1\n",
    "\n",
    "win_perc = float(wins) / float(max_games)\n",
    "print(\"Games played: {0}, # of wins: {1}\".format(max_games, wins))\n",
    "print('Win percentage: {}%'.format(100.0 * win_perc))"
   ]
  },
  {
   "cell_type": "markdown",
   "id": "ebaa4494-47da-4c6f-b6cd-a004ef39adbc",
   "metadata": {},
   "source": [
    "### Conv + Linear"
   ]
  },
  {
   "cell_type": "code",
   "execution_count": 161,
   "id": "c4f4a2ff-c44f-4244-913c-69f5dc4fe36c",
   "metadata": {},
   "outputs": [],
   "source": [
    "conv_in1 = 4\n",
    "conv_in2 = 32\n",
    "l1 = 64\n",
    "l2 = 150\n",
    "l3 = 100\n",
    "l4 = 4\n",
    "\n",
    "model = torch.nn.Sequential(\n",
    "    torch.nn.Conv2d(in_channels=conv_in1, out_channels=conv_in2, kernel_size=3, padding=1),\n",
    "    torch.nn.ReLU(),\n",
    "    torch.nn.MaxPool2d(kernel_size=2, stride=2),\n",
    "    torch.nn.Conv2d(in_channels=conv_in2, out_channels=l1, kernel_size=3, padding=1),\n",
    "    torch.nn.ReLU(),\n",
    "    torch.nn.MaxPool2d(kernel_size=2, stride=2),\n",
    "    torch.nn.Flatten(),\n",
    "    torch.nn.Linear(l1, l2),\n",
    "    torch.nn.ReLU(),\n",
    "    torch.nn.Linear(l2, l3),\n",
    "    torch.nn.ReLU(),\n",
    "    torch.nn.Linear(l3, l4),\n",
    ")\n",
    "\n",
    "model2 = copy.deepcopy(model)\n",
    "model2.load_state_dict(model.state_dict())\n",
    "\n",
    "loss_fn = torch.nn.MSELoss()\n",
    "learning_rate = 1e-3\n",
    "optimizer = torch.optim.Adam(model.parameters(), lr=learning_rate)\n",
    "\n",
    "gamma = 0.9\n",
    "epsilon = 0.3"
   ]
  },
  {
   "cell_type": "code",
   "execution_count": 162,
   "id": "2ee499cc-0c73-4c4a-b623-e0f7df09544b",
   "metadata": {},
   "outputs": [
    {
     "name": "stdout",
     "output_type": "stream",
     "text": [
      "4999 0.02081393450498581\n"
     ]
    }
   ],
   "source": [
    "epochs = 5000\n",
    "losses = []\n",
    "mem_size = 1000\n",
    "batch_size = 200\n",
    "replay = deque(maxlen=mem_size)\n",
    "max_moves = 50\n",
    "h = 0\n",
    "sync_freq = 500  # 목표망 갱신 주기를 설정한다. 주 루프는 훈련 500회마다 model 의 매개변수들을 model2 에 복사한다.\n",
    "j = 0\n",
    "\n",
    "for i in range(epochs):\n",
    "    game = Gridworld(size=4, mode='random')\n",
    "    state1_ = game.board.render_np() + np.random.rand(4, 4, 4) / 100.0\n",
    "    state1 = torch.from_numpy(state1_).float().unsqueeze(0)\n",
    "    status = 1\n",
    "    mov = 0\n",
    "    while status == 1:\n",
    "        j += 1\n",
    "        mov += 1\n",
    "        qval = model(state1)\n",
    "        qval_ = qval.data.numpy()\n",
    "        if random.random() < epsilon:\n",
    "            action_ = np.random.randint(0, 4)\n",
    "        else:\n",
    "            action_ = np.argmax(qval_)\n",
    "            \n",
    "        action = action_set[action_]\n",
    "        game.makeMove(action)\n",
    "        state2_ = game.board.render_np() + np.random.rand(4, 4, 4) / 100.0\n",
    "        state2 = torch.from_numpy(state2_).float().unsqueeze(0)\n",
    "        reward = game.reward()\n",
    "        done = True if reward > 0 else False\n",
    "        exp = (state1, action_, reward, state2, done)\n",
    "        replay.append(exp)\n",
    "        state1 = state2\n",
    "        \n",
    "        if len(replay) > batch_size:\n",
    "            minibatch = random.sample(replay, batch_size)\n",
    "            state1_batch = torch.cat([s1 for (s1, a, r, s2, d) in minibatch])\n",
    "            action_batch = torch.Tensor([a for (s1, a, r, s2, d) in minibatch])\n",
    "            reward_batch = torch.Tensor([r for (s1, a, r, s2, d) in minibatch])\n",
    "            state2_batch = torch.cat([s2 for (s1, a, r, s2, d) in minibatch])\n",
    "            done_batch = torch.Tensor([d for (s1, a, r, s2, d) in minibatch])\n",
    "            \n",
    "            Q1 = model(state1_batch)\n",
    "            with torch.no_grad():\n",
    "                Q2 = model2(state2_batch)  # 목표망을 실행해서 다음 상태의 최대 Q 가치를 얻는다.\n",
    "                \n",
    "            Y = reward_batch + gamma * ((1 - done_batch) * torch.max(Q2, dim=1)[0])\n",
    "            X = Q1.gather(dim=1, index=action_batch.long().unsqueeze(dim=1)).squeeze()\n",
    "            loss = loss_fn(X, Y.detach())\n",
    "            print(i, loss.item())\n",
    "            clear_output(wait=True)\n",
    "            optimizer.zero_grad()\n",
    "            loss.backward()\n",
    "            losses.append(loss.item())\n",
    "            optimizer.step()\n",
    "            \n",
    "            if j % sync_freq == 0:  # 주 Q 신경망의 매개변수들을 목표망에 복사한다.\n",
    "                model2.load_state_dict(model.state_dict())\n",
    "                \n",
    "        if reward != -1 or mov > max_moves:\n",
    "            status = 0\n",
    "            mov = 0\n",
    "            \n",
    "    if epsilon > 0.1:  # 한 에피소드가 끝날 때마다 엡실론을 감소한다.\n",
    "        epsilon -= (1 / epochs)\n",
    "            \n",
    "losses = np.array(losses)"
   ]
  },
  {
   "cell_type": "code",
   "execution_count": 163,
   "id": "7147ecff-22c9-4045-8566-1310aeb0b9e4",
   "metadata": {},
   "outputs": [
    {
     "data": {
      "image/png": "[encoded data removed]",
      "text/plain": [
       "<Figure size 720x504 with 1 Axes>"
      ]
     },
     "metadata": {
      "needs_background": "light"
     },
     "output_type": "display_data"
    }
   ],
   "source": [
    "plt.figure(figsize=(10, 7))\n",
    "plt.plot(losses)\n",
    "plt.xlabel('Epochs', fontsize=22)\n",
    "plt.ylabel('Loss', fontsize=22)\n",
    "plt.show()"
   ]
  },
  {
   "cell_type": "code",
   "execution_count": 164,
   "id": "b660d687-e0ee-484e-92aa-619c275a994c",
   "metadata": {},
   "outputs": [],
   "source": [
    "def test_model(model, mode='static', display=True):\n",
    "    i = 0\n",
    "    test_game = Gridworld(mode=mode)\n",
    "    state_ = test_game.board.render_np() + np.random.rand(4, 4, 4) / 100.0\n",
    "    state = torch.from_numpy(state_).float().unsqueeze(0)\n",
    "    \n",
    "    if display:\n",
    "        print('Initial State:')\n",
    "        print(test_game.display())\n",
    "        \n",
    "    status = 1\n",
    "    while status == 1:  # 게임이 끝날 때까지 반복한다.\n",
    "        qval = model(state)\n",
    "        qval_ = qval.data.numpy()\n",
    "        action_ = np.argmax(qval_)  # Q 가치가 가장 높은 동작을 선택한다.\n",
    "        action = action_set[action_]\n",
    "        if display:\n",
    "            print('Move #: %s; Taking action: %s' % (i, action))\n",
    "        test_game.makeMove(action)\n",
    "        state_ = test_game.board.render_np() + np.random.rand(4, 4, 4) / 100.0\n",
    "        state = torch.from_numpy(state_).float().unsqueeze(0)\n",
    "        if display:\n",
    "            print(test_game.display())\n",
    "        \n",
    "        reward = test_game.reward()\n",
    "        if reward != -1:\n",
    "            if reward > 0:\n",
    "                status = 2\n",
    "                if display:\n",
    "                    print('Game won! Reward: %s' % (reward, ))\n",
    "            else:\n",
    "                status = 0\n",
    "                if display:\n",
    "                    print('Game LOST. Reward: %s' % (reward, ))\n",
    "                    \n",
    "        i += 1\n",
    "        if (i > 15):\n",
    "            if display:\n",
    "                print('Game lost; too many moves.')\n",
    "            break\n",
    "    win = True if status == 2 else False\n",
    "    return win"
   ]
  },
  {
   "cell_type": "code",
   "execution_count": 169,
   "id": "ac938e05-ebe2-4ea9-925a-09bfc0357a1a",
   "metadata": {},
   "outputs": [
    {
     "name": "stderr",
     "output_type": "stream",
     "text": [
      "100%|██████████| 1000/1000 [00:00<00:00, 1378.33it/s]"
     ]
    },
    {
     "name": "stdout",
     "output_type": "stream",
     "text": [
      "Games played: 1000, # of wins: 959\n",
      "Win percentage: 95.89999999999999%\n"
     ]
    },
    {
     "name": "stderr",
     "output_type": "stream",
     "text": [
      "\n"
     ]
    }
   ],
   "source": [
    "max_games = 1000\n",
    "wins = 0\n",
    "for i in tqdm(range(max_games)):\n",
    "    win = test_model(model, mode='random', display=False)\n",
    "    if win:\n",
    "        wins += 1\n",
    "win_perc = float(wins) / float(max_games)\n",
    "print('Games played: {0}, # of wins: {1}'.format(max_games, wins))\n",
    "print('Win percentage: {}%'.format(100 * win_perc))"
   ]
  },
  {
   "cell_type": "code",
   "execution_count": null,
   "id": "82e08141-450c-4987-8a23-b8e3ed10cecf",
   "metadata": {},
   "outputs": [],
   "source": []
  }
 ],
 "metadata": {
  "kernelspec": {
   "display_name": "Python 3",
   "language": "python",
   "name": "python3"
  },
  "language_info": {
   "codemirror_mode": {
    "name": "ipython",
    "version": 3
   },
   "file_extension": ".py",
   "mimetype": "text/x-python",
   "name": "python",
   "nbconvert_exporter": "python",
   "pygments_lexer": "ipython3",
   "version": "3.6.9"
  }
 },
 "nbformat": 4,
 "nbformat_minor": 5
}
