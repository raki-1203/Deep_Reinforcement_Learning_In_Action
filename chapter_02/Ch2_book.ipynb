{
 "cells": [
  {
   "cell_type": "markdown",
   "id": "abe4d666-e4e7-4b81-8aef-dc1c6bac3920",
   "metadata": {},
   "source": [
    "# Chapter 2 - N-armed Bandits\n",
    "\n",
    "**Deep Reinforcement Learning _in Action_**"
   ]
  },
  {
   "cell_type": "markdown",
   "id": "cb439b05-3700-4582-a21f-041a135407e6",
   "metadata": {},
   "source": [
    "## 2. 여러 팔 강도 문제의 해법"
   ]
  },
  {
   "cell_type": "markdown",
   "id": "e57b65d4-2f87-4e5d-a8ae-2e4c08918028",
   "metadata": {},
   "source": [
    "### 2.1 탐험과 활용"
   ]
  },
  {
   "cell_type": "markdown",
   "id": "046b57a1-38b1-4874-9e80-55751d1bc365",
   "metadata": {},
   "source": [
    "#### Listing 2.1 기대 보상에 근거해서 최선의 동작을 찾는 파이썬 3 코드"
   ]
  },
  {
   "cell_type": "code",
   "execution_count": 1,
   "id": "3ebdf681-c8ae-4785-8a76-48dc63d2d267",
   "metadata": {},
   "outputs": [],
   "source": [
    "def get_best_action(actions):\n",
    "    best_action = 0\n",
    "    max_action_value = 0\n",
    "    for i in range(len(actions)):  # A\n",
    "        cur_action_value = get_action_value(actions[i])  # B\n",
    "        if cur_action_value > max_action_value:\n",
    "            best_action = i\n",
    "            max_action_value = cur_action_value\n",
    "    return best_action"
   ]
  },
  {
   "cell_type": "markdown",
   "id": "cc627209-7bf4-487f-84ee-24ca1404b5c3",
   "metadata": {},
   "source": [
    "### 2.2 엡실론 탐욕 전략"
   ]
  },
  {
   "cell_type": "markdown",
   "id": "6ed66346-9e6f-4451-b2cc-9164cba8cf30",
   "metadata": {},
   "source": [
    "#### Listing 2.2 엡실론 탐욕 전략에 따른 동작 선택"
   ]
  },
  {
   "cell_type": "code",
   "execution_count": 4,
   "id": "42f03841-177f-4201-88dc-11917c21cef3",
   "metadata": {},
   "outputs": [],
   "source": [
    "import numpy as np\n",
    "from scipy import stats\n",
    "import random\n",
    "import matplotlib.pyplot as plt"
   ]
  },
  {
   "cell_type": "code",
   "execution_count": 5,
   "id": "bc8db216-a26c-49c9-913e-2331273eb4ab",
   "metadata": {},
   "outputs": [],
   "source": [
    "n = 10\n",
    "probs = np.random.rand(n)\n",
    "eps = 0.2"
   ]
  },
  {
   "cell_type": "markdown",
   "id": "2a11c3b4-e893-4cc4-a83b-ed00fae3591b",
   "metadata": {},
   "source": [
    "#### Listing 2.3 보상 함수"
   ]
  },
  {
   "cell_type": "code",
   "execution_count": 6,
   "id": "9bc7921d-5e40-494b-bf08-8a2e0b46b015",
   "metadata": {},
   "outputs": [],
   "source": [
    "def get_reward(prob, n=10):\n",
    "    reward = 0\n",
    "    for i in range(n):\n",
    "        if random.random() < prob:\n",
    "            reward += 1\n",
    "    return reward"
   ]
  },
  {
   "cell_type": "code",
   "execution_count": 7,
   "id": "90bb1c1b-dedd-4d6b-8feb-0c56449d3931",
   "metadata": {},
   "outputs": [],
   "source": [
    "reward_test = [get_reward(0.7) for _ in range(2000)]"
   ]
  },
  {
   "cell_type": "code",
   "execution_count": 8,
   "id": "3a37fd6c-79ea-4e95-9b33-a7a6a76b438d",
   "metadata": {},
   "outputs": [
    {
     "data": {
      "text/plain": [
       "7.006"
      ]
     },
     "execution_count": 8,
     "metadata": {},
     "output_type": "execute_result"
    }
   ],
   "source": [
    "np.mean(reward_test)"
   ]
  },
  {
   "cell_type": "code",
   "execution_count": 9,
   "id": "07286f3a-a406-430d-b06d-9c7a68446e4c",
   "metadata": {},
   "outputs": [
    {
     "data": {
      "text/plain": [
       "22"
      ]
     },
     "execution_count": 9,
     "metadata": {},
     "output_type": "execute_result"
    }
   ],
   "source": [
    "sum = 0\n",
    "x = [4, 5, 6, 7]\n",
    "for i in range(len(x)):\n",
    "    sum = sum + x[i]\n",
    "sum"
   ]
  },
  {
   "cell_type": "code",
   "execution_count": 10,
   "id": "e740fb60-7587-428d-9b41-7be311ef68a2",
   "metadata": {},
   "outputs": [
    {
     "data": {
      "image/png": "[encoded data removed]",
      "text/plain": [
       "<Figure size 648x360 with 1 Axes>"
      ]
     },
     "metadata": {
      "needs_background": "light"
     },
     "output_type": "display_data"
    }
   ],
   "source": [
    "plt.figure(figsize=(9, 5))\n",
    "plt.xlabel('Reward', fontsize=22)\n",
    "plt.ylabel('# Observations', fontsize=22)\n",
    "plt.hist(reward_test, bins=9)\n",
    "plt.show()"
   ]
  },
  {
   "cell_type": "markdown",
   "id": "d62f8334-3e4f-494f-8164-3cbe59463c71",
   "metadata": {},
   "source": [
    "#### Listing 2.4 보상 기록 갱신"
   ]
  },
  {
   "cell_type": "code",
   "execution_count": 11,
   "id": "91c12b8d-dc4d-4957-a5a9-18d7e947b178",
   "metadata": {},
   "outputs": [
    {
     "data": {
      "text/plain": [
       "array([[0., 0.],\n",
       "       [0., 0.],\n",
       "       [0., 0.],\n",
       "       [0., 0.],\n",
       "       [0., 0.],\n",
       "       [0., 0.],\n",
       "       [0., 0.],\n",
       "       [0., 0.],\n",
       "       [0., 0.],\n",
       "       [0., 0.]])"
      ]
     },
     "execution_count": 11,
     "metadata": {},
     "output_type": "execute_result"
    }
   ],
   "source": [
    "# 10 actions x 2 columns\n",
    "# Columns: Count #, Avg Reward\n",
    "record = np.zeros((n, 2))\n",
    "record"
   ]
  },
  {
   "cell_type": "code",
   "execution_count": 12,
   "id": "b5f7908f-747e-4abb-b8d2-d2a49f6783c6",
   "metadata": {},
   "outputs": [],
   "source": [
    "def update_record(record, action, r):\n",
    "    new_r = (record[action, 0] * record[action, 1] + r) / (record[action, 0] + 1)\n",
    "    record[action, 0] += 1\n",
    "    record[action, 1] = new_r\n",
    "    return record"
   ]
  },
  {
   "cell_type": "markdown",
   "id": "2b8cbc13-7b64-4e1a-a15d-36c6207a85e9",
   "metadata": {},
   "source": [
    "#### Listing 2.5 최선의 동작 선택"
   ]
  },
  {
   "cell_type": "code",
   "execution_count": 13,
   "id": "f0b0d7d8-e9d6-4ae2-9fb6-c676f5d7a4ca",
   "metadata": {},
   "outputs": [],
   "source": [
    "def get_best_arm(record):\n",
    "    arm_index = np.argmax(record[:, 1], axis=0)\n",
    "    return arm_index"
   ]
  },
  {
   "cell_type": "markdown",
   "id": "60823bde-9d54-44fc-bf48-810d0760743b",
   "metadata": {},
   "source": [
    "#### Listing 2.6 여러 팔 강도 문제의 해법"
   ]
  },
  {
   "cell_type": "code",
   "execution_count": 14,
   "id": "8928b4de-5e74-4cfb-b7fd-181446e89bd5",
   "metadata": {},
   "outputs": [
    {
     "data": {
      "image/png": "[encoded data removed]",
      "text/plain": [
       "<Figure size 648x360 with 1 Axes>"
      ]
     },
     "metadata": {
      "needs_background": "light"
     },
     "output_type": "display_data"
    }
   ],
   "source": [
    "fig, ax = plt.subplots(1, 1)\n",
    "ax.set_xlabel('Plays')\n",
    "ax.set_ylabel('Avg Reward')\n",
    "fig.set_size_inches(9, 5)\n",
    "\n",
    "n = 10\n",
    "record = np.zeros((n, 2))\n",
    "probs = np.random.rand(n)\n",
    "eps = 0.2\n",
    "\n",
    "rewards = [0]\n",
    "for i in range(500):\n",
    "    if random.random() > eps:\n",
    "        choice = get_best_arm(record)\n",
    "    else:\n",
    "        choice = np.random.randint(n)\n",
    "    r = get_reward(probs[choice])\n",
    "    record = update_record(record, choice, r)\n",
    "    mean_reward = ((i + 1) * rewards[-1] + r) / (i + 2)\n",
    "    rewards.append(mean_reward)\n",
    "    \n",
    "ax.scatter(np.arange(len(rewards)), rewards)\n",
    "plt.show()"
   ]
  },
  {
   "cell_type": "markdown",
   "id": "e74683d5-6dde-4ece-9f1a-d302f6be20cc",
   "metadata": {},
   "source": [
    "### 소프트맥스 선택 정책"
   ]
  },
  {
   "cell_type": "markdown",
   "id": "fc95b684-bd25-4933-b7bc-a5c2c497d5c3",
   "metadata": {},
   "source": [
    "#### Listing 2.7 소프트맥스 함수"
   ]
  },
  {
   "cell_type": "code",
   "execution_count": 15,
   "id": "9e4927e4-13f2-4b9c-b4ca-21d215745f45",
   "metadata": {},
   "outputs": [],
   "source": [
    "def softmax(av, tau=1.12):\n",
    "    softm = np.exp(av / tau) / np.sum(np.exp(av / tau))\n",
    "    return softm"
   ]
  },
  {
   "cell_type": "code",
   "execution_count": 16,
   "id": "05475156-8c2a-478a-ac64-6ecf4a69aecd",
   "metadata": {},
   "outputs": [
    {
     "data": {
      "text/plain": [
       "array([0, 1, 2, 3, 4, 5, 6, 7, 8, 9])"
      ]
     },
     "execution_count": 16,
     "metadata": {},
     "output_type": "execute_result"
    }
   ],
   "source": [
    "x = np.arange(10)\n",
    "x"
   ]
  },
  {
   "cell_type": "code",
   "execution_count": 17,
   "id": "f6dc5450-f53b-4f92-9cd8-d74c4cb07f61",
   "metadata": {},
   "outputs": [
    {
     "data": {
      "text/plain": [
       "array([0., 0., 0., 0., 0., 0., 0., 0., 0., 0.])"
      ]
     },
     "execution_count": 17,
     "metadata": {},
     "output_type": "execute_result"
    }
   ],
   "source": [
    "av = np.zeros(10)\n",
    "av"
   ]
  },
  {
   "cell_type": "code",
   "execution_count": 18,
   "id": "ae62eca4-295a-4d67-b9c1-c807c7d51894",
   "metadata": {},
   "outputs": [
    {
     "data": {
      "text/plain": [
       "array([0.1, 0.1, 0.1, 0.1, 0.1, 0.1, 0.1, 0.1, 0.1, 0.1])"
      ]
     },
     "execution_count": 18,
     "metadata": {},
     "output_type": "execute_result"
    }
   ],
   "source": [
    "p = softmax(av)\n",
    "p"
   ]
  },
  {
   "cell_type": "code",
   "execution_count": 19,
   "id": "a2c921b0-5f77-4339-bba2-87cfaaaf90af",
   "metadata": {},
   "outputs": [
    {
     "data": {
      "text/plain": [
       "6"
      ]
     },
     "execution_count": 19,
     "metadata": {},
     "output_type": "execute_result"
    }
   ],
   "source": [
    "np.random.choice(x, p=p)"
   ]
  },
  {
   "cell_type": "markdown",
   "id": "50c3f96b-0480-43e0-aa37-c8a681cfc1cf",
   "metadata": {},
   "source": [
    "#### Listing 2.8 소프트맥스 동작 선택을 이용한 여러 팔 강도 문제의 해법"
   ]
  },
  {
   "cell_type": "code",
   "execution_count": 20,
   "id": "cd9be6af-1bbc-42fc-aaa1-fbc0af0d73df",
   "metadata": {},
   "outputs": [
    {
     "data": {
      "image/png": "[encoded data removed]",
      "text/plain": [
       "<Figure size 648x360 with 1 Axes>"
      ]
     },
     "metadata": {
      "needs_background": "light"
     },
     "output_type": "display_data"
    }
   ],
   "source": [
    "n = 10\n",
    "probs = np.random.rand(n)\n",
    "record = np.zeros((n, 2))\n",
    "\n",
    "fig, ax = plt.subplots(1, 1)\n",
    "ax.set_xlabel('Plays')\n",
    "ax.set_ylabel('Avg Reward')\n",
    "fig.set_size_inches(9, 5)\n",
    "\n",
    "rewards = [0]\n",
    "for i in range(500):\n",
    "    p = softmax(record[:, 1])\n",
    "    choice = np.random.choice(np.arange(n), p=p)\n",
    "    r = get_reward(probs[choice])\n",
    "    record = update_record(record, choice, r)\n",
    "    mean_reward = ((i + 1) * rewards[-1] + r) / (i + 2)\n",
    "    rewards.append(mean_reward)\n",
    "\n",
    "ax.scatter(np.arange(len(rewards)), rewards)\n",
    "plt.show()"
   ]
  },
  {
   "cell_type": "markdown",
   "id": "ac3ecc7a-dd3e-45d9-9267-386a6350d4a1",
   "metadata": {},
   "source": [
    "## 4. PyTorch 로 신경망 만들기"
   ]
  },
  {
   "cell_type": "markdown",
   "id": "1453f2a9-ff35-4cc0-bd31-8ca98ffe07e1",
   "metadata": {
    "tags": []
   },
   "source": [
    "### 4.1 자동 미분"
   ]
  },
  {
   "cell_type": "code",
   "execution_count": 21,
   "id": "2e3ca697-c139-4ecb-9d4d-5776b29b3c3f",
   "metadata": {},
   "outputs": [],
   "source": [
    "import torch"
   ]
  },
  {
   "cell_type": "code",
   "execution_count": 22,
   "id": "5a470071-028c-4d0e-8e57-027118d74372",
   "metadata": {},
   "outputs": [
    {
     "data": {
      "text/plain": [
       "tensor([2., 4.])"
      ]
     },
     "execution_count": 22,
     "metadata": {},
     "output_type": "execute_result"
    }
   ],
   "source": [
    "x = torch.Tensor([2, 4])  # 입력 데이터\n",
    "x"
   ]
  },
  {
   "cell_type": "code",
   "execution_count": 23,
   "id": "b899dc82-f255-4334-92e3-50ddb22e3878",
   "metadata": {},
   "outputs": [
    {
     "data": {
      "text/plain": [
       "tensor([-0.0655, -0.2053], requires_grad=True)"
      ]
     },
     "execution_count": 23,
     "metadata": {},
     "output_type": "execute_result"
    }
   ],
   "source": [
    "m = torch.randn(2, requires_grad=True)  # 매개변수 1\n",
    "m"
   ]
  },
  {
   "cell_type": "code",
   "execution_count": 25,
   "id": "a6a0d2c5-05b3-45be-ae1f-51a674ce5c34",
   "metadata": {},
   "outputs": [
    {
     "data": {
      "text/plain": [
       "tensor([-0.3655], requires_grad=True)"
      ]
     },
     "execution_count": 25,
     "metadata": {},
     "output_type": "execute_result"
    }
   ],
   "source": [
    "b = torch.randn(1, requires_grad=True)  # 매개변수 2\n",
    "b"
   ]
  },
  {
   "cell_type": "code",
   "execution_count": 26,
   "id": "37159480-6cc6-475d-a551-f4656bed1a71",
   "metadata": {},
   "outputs": [
    {
     "data": {
      "text/plain": [
       "tensor([-0.4965, -1.1867], grad_fn=<AddBackward0>)"
      ]
     },
     "execution_count": 26,
     "metadata": {},
     "output_type": "execute_result"
    }
   ],
   "source": [
    "y = m*x + b  # 선형 회귀 모형\n",
    "y"
   ]
  },
  {
   "cell_type": "code",
   "execution_count": 30,
   "id": "bdac143e-6a00-4375-a21c-eef55c3d79ac",
   "metadata": {},
   "outputs": [],
   "source": [
    "y_known = torch.Tensor([8, 2])"
   ]
  },
  {
   "cell_type": "code",
   "execution_count": 31,
   "id": "8c4e748b-e8e7-42da-a878-cdc5cbeec0d4",
   "metadata": {},
   "outputs": [
    {
     "data": {
      "text/plain": [
       "tensor(136.4968, grad_fn=<PowBackward0>)"
      ]
     },
     "execution_count": 31,
     "metadata": {},
     "output_type": "execute_result"
    }
   ],
   "source": [
    "loss = (torch.sum(y_known - y))**2  # 손실함수\n",
    "loss"
   ]
  },
  {
   "cell_type": "code",
   "execution_count": 32,
   "id": "1282dfb5-c75f-46e7-a1a8-6fa8d4ae1fdc",
   "metadata": {},
   "outputs": [],
   "source": [
    "loss.backward()  # 기울기들이 계산된다."
   ]
  },
  {
   "cell_type": "code",
   "execution_count": 34,
   "id": "d958415b-62e1-49f4-9161-460a9de6eaeb",
   "metadata": {},
   "outputs": [
    {
     "data": {
      "text/plain": [
       "tensor([-46.7327, -93.4655])"
      ]
     },
     "execution_count": 34,
     "metadata": {},
     "output_type": "execute_result"
    }
   ],
   "source": [
    "m.grad"
   ]
  },
  {
   "cell_type": "code",
   "execution_count": 35,
   "id": "acb6b422-a3cd-45f7-9e44-595435a2786f",
   "metadata": {},
   "outputs": [
    {
     "data": {
      "text/plain": [
       "tensor([-46.7327])"
      ]
     },
     "execution_count": 35,
     "metadata": {},
     "output_type": "execute_result"
    }
   ],
   "source": [
    "b.grad"
   ]
  },
  {
   "cell_type": "markdown",
   "id": "5b2805aa-f8c9-42c0-b1aa-73e3ff4fdf6d",
   "metadata": {},
   "source": [
    "### 4.2 모형의 구축"
   ]
  },
  {
   "cell_type": "markdown",
   "id": "bf5dd409-1b77-4807-bda8-4f17f6dbe709",
   "metadata": {},
   "source": [
    "```\n",
    "model = torch.nn.Sequential(\n",
    "    torch.nn.Linear(10, 150),\n",
    "    torch.nn.ReLU(),\n",
    "    torch.nn.Linear(150, 4),\n",
    "    torch.nn.ReLU(),\n",
    ")\n",
    "\n",
    "loss_fn = torch.nn.MSELoss()\n",
    "optimizer = torch.optim.Adam(model.parameters(), lr=0.01)\n",
    "\n",
    "for step in range(100):\n",
    "    y_pred = model(x)\n",
    "    loss = loss_fn(y_pred, y_correct)\n",
    "    optimizer.zero_grad()\n",
    "    loss.backward()\n",
    "    optimizer.step()\n",
    "```"
   ]
  },
  {
   "cell_type": "markdown",
   "id": "926e2660-4f2f-4a7b-8ca8-97a7be6644ef",
   "metadata": {},
   "source": [
    "```\n",
    "from torch.nn import Module, Linear\n",
    "\n",
    "class MyNet(Module):\n",
    "    def __init__(self):\n",
    "        super(MyNet, self).__init__()\n",
    "        self.fc1 = Linear(784, 50)\n",
    "        self.fc2 = Linear(50, 10)\n",
    "        \n",
    "    def forward(self, x):\n",
    "        x = F.relu(self.fc1(x))\n",
    "        x = F.relu(self.fc2(x))\n",
    "        return x\n",
    "        \n",
    "model = MyNet()\n",
    "```"
   ]
  },
  {
   "cell_type": "markdown",
   "id": "df6d6e30-045e-4390-be0a-f6791f41bc4f",
   "metadata": {},
   "source": [
    "## 5. 문맥적 강도 문제의 해법"
   ]
  },
  {
   "cell_type": "markdown",
   "id": "d86733b4-f6bd-4eee-802b-b6581b10bc09",
   "metadata": {},
   "source": [
    "### Listing 2.9 문맥저거 강도 문제의 환경"
   ]
  },
  {
   "cell_type": "code",
   "execution_count": 40,
   "id": "d252eb8f-f895-4cc5-96de-4bb8be81f112",
   "metadata": {},
   "outputs": [],
   "source": [
    "class ContextBandit:\n",
    "    def __init__(self, arms=10):\n",
    "        self.arms = arms\n",
    "        self.init_distribution(arms)\n",
    "        self.update_state()\n",
    "        \n",
    "    def init_distribution(self, arms):\n",
    "        self.bandit_matrix = np.random.rand(arms, arms)\n",
    "        \n",
    "    def reward(self, prob):\n",
    "        reward = 0\n",
    "        for i in range(self.arms):\n",
    "            if random.random() < prob:\n",
    "                reward += 1\n",
    "        return reward\n",
    "    \n",
    "    def get_state(self):\n",
    "        return self.state\n",
    "    \n",
    "    def update_state(self):\n",
    "        self.state = np.random.randint(0, self.arms)\n",
    "        \n",
    "    def get_reward(self, arm):\n",
    "        return self.reward(self.bandit_matrix[self.get_state()][arm])\n",
    "    \n",
    "    def choose_arm(self, arm):\n",
    "        reward = self.get_reward(arm)\n",
    "        self.update_state()\n",
    "        return reward"
   ]
  },
  {
   "cell_type": "code",
   "execution_count": 46,
   "id": "61177a0f-03b6-429a-ae87-e5602c5b032a",
   "metadata": {},
   "outputs": [
    {
     "name": "stdout",
     "output_type": "stream",
     "text": [
      "3\n",
      "6\n"
     ]
    }
   ],
   "source": [
    "env = ContextBandit(arms=10)\n",
    "state = env.get_state()\n",
    "reward = env.choose_arm(1)\n",
    "print(state)\n",
    "print(reward)"
   ]
  },
  {
   "cell_type": "code",
   "execution_count": 48,
   "id": "e38a7778-db5a-4821-82f5-c39c7b99961c",
   "metadata": {},
   "outputs": [],
   "source": [
    "import numpy as np\n",
    "import torch"
   ]
  },
  {
   "cell_type": "code",
   "execution_count": 73,
   "id": "97b56094-f3ba-4339-b3f1-6e3441d4deec",
   "metadata": {},
   "outputs": [],
   "source": [
    "arms = 10\n",
    "N, D_in, H, D_out = 1, arms, 100, arms  # N : batch_size, D_in : input_dim, H : hidden_dim, D_out : output_dim"
   ]
  },
  {
   "cell_type": "code",
   "execution_count": 74,
   "id": "c755f7a1-f16c-4e89-880f-7821d9e6361e",
   "metadata": {},
   "outputs": [],
   "source": [
    "model = torch.nn.Sequential(\n",
    "    torch.nn.Linear(D_in, H),\n",
    "    torch.nn.ReLU(),\n",
    "    torch.nn.Linear(H, D_out),\n",
    "    torch.nn.ReLU(),\n",
    ")"
   ]
  },
  {
   "cell_type": "code",
   "execution_count": 75,
   "id": "fff9291f-a9a1-4022-a7fd-f1aa23034bc9",
   "metadata": {},
   "outputs": [],
   "source": [
    "loss_fn = torch.nn.MSELoss()"
   ]
  },
  {
   "cell_type": "code",
   "execution_count": 76,
   "id": "1a3123a6-8b70-4a36-8453-9f68ac10c53f",
   "metadata": {},
   "outputs": [],
   "source": [
    "env = ContextBandit(arms)"
   ]
  },
  {
   "cell_type": "code",
   "execution_count": 77,
   "id": "b717dc3f-7736-4a96-ab0b-302b96bb62ed",
   "metadata": {},
   "outputs": [],
   "source": [
    "def one_hot(N, pos, val=1):\n",
    "    one_hot_vec = np.zeros(N)\n",
    "    one_hot_vec[pos] = val\n",
    "    return one_hot_vec"
   ]
  },
  {
   "cell_type": "code",
   "execution_count": 78,
   "id": "4c719d38-888c-470a-a5fe-66448e455ec8",
   "metadata": {},
   "outputs": [
    {
     "data": {
      "text/plain": [
       "array([0., 1., 0., 0., 0.])"
      ]
     },
     "execution_count": 78,
     "metadata": {},
     "output_type": "execute_result"
    }
   ],
   "source": [
    "one_hot(5, 1)"
   ]
  },
  {
   "cell_type": "markdown",
   "id": "5b032e39-23ac-4a80-a26c-5cd6c29df8e6",
   "metadata": {},
   "source": [
    "### Listing 2.10 주 훈련 루프"
   ]
  },
  {
   "cell_type": "code",
   "execution_count": 79,
   "id": "bf285b40-ac7c-4f8a-bed7-fb1362c00b77",
   "metadata": {},
   "outputs": [],
   "source": [
    "def train(env, epochs=5000, learning_rate=1e-2):\n",
    "    cur_state = torch.Tensor(one_hot(arms, env.get_state()))\n",
    "    optimizer = torch.optim.Adam(model.parameters(), lr=learning_rate)\n",
    "    rewards = []\n",
    "    for i in range(epochs):\n",
    "        y_pred = model(cur_state)\n",
    "        av_softmax = softmax(y_pred.data.numpy(), tau=2.0)\n",
    "        av_softmax /= av_softmax.sum()\n",
    "        choice = np.random.choice(arms, p=av_softmax)\n",
    "        cur_reward = env.choose_arm(choice)\n",
    "        one_hot_reward = y_pred.data.numpy().copy()\n",
    "        one_hot_reward[choice] = cur_reward\n",
    "        reward = torch.Tensor(one_hot_reward)\n",
    "        rewards.append(cur_reward)\n",
    "        loss = loss_fn(y_pred, reward)\n",
    "        optimizer.zero_grad()\n",
    "        loss.backward()\n",
    "        optimizer.step()\n",
    "        cur_state = torch.Tensor(one_hot(arms, env.get_state()))\n",
    "    return np.array(rewards)"
   ]
  },
  {
   "cell_type": "code",
   "execution_count": 80,
   "id": "bcd60eba-6289-4511-98c4-0b518e1d2573",
   "metadata": {},
   "outputs": [],
   "source": [
    "def running_mean(x, N=50):\n",
    "    c = x.shape[0] - N\n",
    "    y = np.zeros(c)\n",
    "    conv = np.ones(N)\n",
    "    for i in range(c):\n",
    "        y[i] = (x[i:i+N] @ conv) / N\n",
    "    return y"
   ]
  },
  {
   "cell_type": "code",
   "execution_count": 81,
   "id": "40890a8f-2402-4083-be48-05ea9dbb6f8b",
   "metadata": {},
   "outputs": [],
   "source": [
    "rewards = train(env)"
   ]
  },
  {
   "cell_type": "code",
   "execution_count": 82,
   "id": "2377fddf-801a-49d7-9c05-e0c3c10c5dfe",
   "metadata": {},
   "outputs": [
    {
     "data": {
      "image/png": "[encoded data removed]",
      "text/plain": [
       "<Figure size 432x288 with 1 Axes>"
      ]
     },
     "metadata": {
      "needs_background": "light"
     },
     "output_type": "display_data"
    }
   ],
   "source": [
    "plt.plot(running_mean(rewards, N=500))\n",
    "plt.show()"
   ]
  },
  {
   "cell_type": "code",
   "execution_count": null,
   "id": "dc51c444-ce6f-4769-9fa8-148223ddb1fe",
   "metadata": {},
   "outputs": [],
   "source": []
  }
 ],
 "metadata": {
  "kernelspec": {
   "display_name": "Python 3",
   "language": "python",
   "name": "python3"
  },
  "language_info": {
   "codemirror_mode": {
    "name": "ipython",
    "version": 3
   },
   "file_extension": ".py",
   "mimetype": "text/x-python",
   "name": "python",
   "nbconvert_exporter": "python",
   "pygments_lexer": "ipython3",
   "version": "3.6.9"
  }
 },
 "nbformat": 4,
 "nbformat_minor": 5
}
