{
 "cells": [
  {
   "cell_type": "markdown",
   "id": "abe4d666-e4e7-4b81-8aef-dc1c6bac3920",
   "metadata": {},
   "source": [
    "# Chapter 2 - N-armed Bandits\n",
    "\n",
    "## Deep Reinforcement Learning _in Action_"
   ]
  },
  {
   "cell_type": "markdown",
   "id": "e57b65d4-2f87-4e5d-a8ae-2e4c08918028",
   "metadata": {},
   "source": [
    "### Listing 2.1"
   ]
  },
  {
   "cell_type": "code",
   "execution_count": 1,
   "id": "3ebdf681-c8ae-4785-8a76-48dc63d2d267",
   "metadata": {},
   "outputs": [],
   "source": [
    "def get_best_action(actions):\n",
    "    best_action = 0\n",
    "    max_action_value = 0\n",
    "    for i in range(len(actions)):  # A\n",
    "        cur_action_value = get_action_value(actions[i])  # B\n",
    "        if cur_action_value > max_action_value:\n",
    "            best_action = i\n",
    "            max_action_value = cur_action_value\n",
    "    return best_action"
   ]
  },
  {
   "cell_type": "markdown",
   "id": "cc627209-7bf4-487f-84ee-24ca1404b5c3",
   "metadata": {},
   "source": [
    "### Listing 2.2"
   ]
  },
  {
   "cell_type": "code",
   "execution_count": null,
   "id": "42f03841-177f-4201-88dc-11917c21cef3",
   "metadata": {},
   "outputs": [],
   "source": [
    "import numpy as np\n",
    "from scipy import stats\n",
    "import random\n",
    "import matplotlib.pyplot as plt"
   ]
  },
  {
   "cell_type": "code",
   "execution_count": null,
   "id": "bc8db216-a26c-49c9-913e-2331273eb4ab",
   "metadata": {},
   "outputs": [],
   "source": [
    "n = 10\n",
    "probs = np.random.rand(n)\n",
    "eps = 0.2"
   ]
  },
  {
   "cell_type": "markdown",
   "id": "2a11c3b4-e893-4cc4-a83b-ed00fae3591b",
   "metadata": {},
   "source": [
    "### Listing 2.3"
   ]
  },
  {
   "cell_type": "code",
   "execution_count": null,
   "id": "9bc7921d-5e40-494b-bf08-8a2e0b46b015",
   "metadata": {},
   "outputs": [],
   "source": [
    "def get_reward(prob, n=10):\n",
    "    reward = 0\n",
    "    for i in range(n):\n",
    "        if random.random() < prob:\n",
    "            reward += 1\n",
    "    return reward"
   ]
  },
  {
   "cell_type": "code",
   "execution_count": null,
   "id": "90bb1c1b-dedd-4d6b-8feb-0c56449d3931",
   "metadata": {},
   "outputs": [],
   "source": [
    "reward_test = [get_reward(0.7) for _ in range(2000)]"
   ]
  },
  {
   "cell_type": "code",
   "execution_count": null,
   "id": "3a37fd6c-79ea-4e95-9b33-a7a6a76b438d",
   "metadata": {},
   "outputs": [],
   "source": [
    "np.mean(reward_test)"
   ]
  },
  {
   "cell_type": "code",
   "execution_count": null,
   "id": "07286f3a-a406-430d-b06d-9c7a68446e4c",
   "metadata": {},
   "outputs": [],
   "source": [
    "sum = 0\n",
    "x = [4, 5, 6, 7]\n",
    "for i in range(len(x)):\n",
    "    sum = sum + x[i]\n",
    "sum"
   ]
  },
  {
   "cell_type": "code",
   "execution_count": null,
   "id": "e740fb60-7587-428d-9b41-7be311ef68a2",
   "metadata": {},
   "outputs": [],
   "source": [
    "plt.figure(figsize=(9, 5))\n",
    "plt.xlabel('Reward', fontsize=22)\n",
    "plt.ylabel('# Observations', fontsize=22)\n",
    "plt.hist(reward_test, bins=9)\n",
    "plt.show()"
   ]
  },
  {
   "cell_type": "markdown",
   "id": "d62f8334-3e4f-494f-8164-3cbe59463c71",
   "metadata": {},
   "source": [
    "### Listing 2.4"
   ]
  },
  {
   "cell_type": "code",
   "execution_count": null,
   "id": "91c12b8d-dc4d-4957-a5a9-18d7e947b178",
   "metadata": {},
   "outputs": [],
   "source": [
    "# 10 actions x 2 columns\n",
    "# Columns: Count #, Avg Reward\n",
    "record = np.zeros((n, 2))\n",
    "record"
   ]
  },
  {
   "cell_type": "code",
   "execution_count": null,
   "id": "b5f7908f-747e-4abb-b8d2-d2a49f6783c6",
   "metadata": {},
   "outputs": [],
   "source": [
    "def update_record(record, action, r):\n",
    "    new_r = (record[action, 0] * record[action, 1] + r) / (record[action, 0] + 1)\n",
    "    record[action, 0] += 1\n",
    "    record[action, 1] = new_r\n",
    "    return record"
   ]
  },
  {
   "cell_type": "markdown",
   "id": "2b8cbc13-7b64-4e1a-a15d-36c6207a85e9",
   "metadata": {},
   "source": [
    "### Listing 2.5"
   ]
  },
  {
   "cell_type": "code",
   "execution_count": null,
   "id": "f0b0d7d8-e9d6-4ae2-9fb6-c676f5d7a4ca",
   "metadata": {},
   "outputs": [],
   "source": [
    "def get_best_arm(record):\n",
    "    arm_index = np.argmax(record[:, 1], axis=0)\n",
    "    return arm_index"
   ]
  },
  {
   "cell_type": "markdown",
   "id": "60823bde-9d54-44fc-bf48-810d0760743b",
   "metadata": {},
   "source": [
    "### Listing 2.6"
   ]
  },
  {
   "cell_type": "code",
   "execution_count": null,
   "id": "8928b4de-5e74-4cfb-b7fd-181446e89bd5",
   "metadata": {},
   "outputs": [],
   "source": [
    "fig, ax = plt.subplots(1, 1)\n",
    "ax.set_xlabel('Plays')\n",
    "ax.set_ylabel('Avg Reward')\n",
    "fig.set_size_inches(9, 5)\n",
    "\n",
    "n = 10\n",
    "record = np.zeros((n, 2))\n",
    "probs = np.random.rand(n)\n",
    "eps = 0.2\n",
    "\n",
    "rewards = [0]\n",
    "for i in range(500):\n",
    "    if random.random() > eps:\n",
    "        choice = get_best_arm(record)\n",
    "    else:\n",
    "        choice = np.random.randint(n)\n",
    "    r = get_reward(probs[choice])\n",
    "    record = update_record(record, choice, r)\n",
    "    mean_reward = ((i + 1) * rewards[-1] + r) / (i + 2)\n",
    "    rewards.append(mean_reward)\n",
    "    \n",
    "ax.scatter(np.arange(len(rewards)), rewards)\n",
    "plt.show()"
   ]
  },
  {
   "cell_type": "markdown",
   "id": "fc95b684-bd25-4933-b7bc-a5c2c497d5c3",
   "metadata": {},
   "source": [
    "### Listing 2.7"
   ]
  },
  {
   "cell_type": "code",
   "execution_count": null,
   "id": "9e4927e4-13f2-4b9c-b4ca-21d215745f45",
   "metadata": {},
   "outputs": [],
   "source": [
    "def softmax(av, tau=1.12):\n",
    "    softm = np.exp(av / tau) / np.sum(np.exp(av / tau))\n",
    "    return softm"
   ]
  },
  {
   "cell_type": "code",
   "execution_count": null,
   "id": "05475156-8c2a-478a-ac64-6ecf4a69aecd",
   "metadata": {},
   "outputs": [],
   "source": [
    "x = np.arange(10)\n",
    "x"
   ]
  },
  {
   "cell_type": "code",
   "execution_count": null,
   "id": "f6dc5450-f53b-4f92-9cd8-d74c4cb07f61",
   "metadata": {},
   "outputs": [],
   "source": [
    "av = np.zeros(10)\n",
    "av"
   ]
  },
  {
   "cell_type": "code",
   "execution_count": null,
   "id": "ae62eca4-295a-4d67-b9c1-c807c7d51894",
   "metadata": {},
   "outputs": [],
   "source": [
    "p = softmax(av)\n",
    "p"
   ]
  },
  {
   "cell_type": "code",
   "execution_count": null,
   "id": "a2c921b0-5f77-4339-bba2-87cfaaaf90af",
   "metadata": {},
   "outputs": [],
   "source": [
    "np.random.choice(x, p=p)"
   ]
  },
  {
   "cell_type": "code",
   "execution_count": null,
   "id": "cd9be6af-1bbc-42fc-aaa1-fbc0af0d73df",
   "metadata": {},
   "outputs": [],
   "source": [
    "n = 10\n",
    "probs = np.random.rand(n)\n",
    "record = np.zeros((n, 2))\n",
    "\n",
    "fig, ax = plt.subplots(1, 1)\n",
    "ax.set_xlabel('Plays')\n",
    "ax.set_ylabel('Avg Reward')\n",
    "fig.set_size_inches(9, 5)\n",
    "\n",
    "rewards = [0]\n",
    "for i in range(500):\n",
    "    p = softmax(record[:, 1])\n",
    "    choice = np.random.choice(np.arange(n), p=p)\n",
    "    r = get_reward(probs[choice])\n",
    "    record = update_record(record, choice, r)\n",
    "    mean_reward = ((i + 1) * rewards[-1] + r) / (i + 2)\n",
    "    rewards.append(mean_reward)\n",
    "\n",
    "ax.scatter(np.arange(len(rewards)), rewards)\n",
    "plt.show()"
   ]
  },
  {
   "cell_type": "markdown",
   "id": "1453f2a9-ff35-4cc0-bd31-8ca98ffe07e1",
   "metadata": {},
   "source": [
    "## 자동 미분"
   ]
  },
  {
   "cell_type": "code",
   "execution_count": null,
   "id": "2e3ca697-c139-4ecb-9d4d-5776b29b3c3f",
   "metadata": {},
   "outputs": [],
   "source": [
    "import torch"
   ]
  },
  {
   "cell_type": "code",
   "execution_count": null,
   "id": "5a470071-028c-4d0e-8e57-027118d74372",
   "metadata": {},
   "outputs": [],
   "source": [
    "x = torch.Tensor([2, 4])  # 입력 데이터\n",
    "x"
   ]
  },
  {
   "cell_type": "code",
   "execution_count": null,
   "id": "b899dc82-f255-4334-92e3-50ddb22e3878",
   "metadata": {},
   "outputs": [],
   "source": []
  },
  {
   "cell_type": "code",
   "execution_count": null,
   "id": "a6a0d2c5-05b3-45be-ae1f-51a674ce5c34",
   "metadata": {},
   "outputs": [],
   "source": []
  },
  {
   "cell_type": "code",
   "execution_count": null,
   "id": "37159480-6cc6-475d-a551-f4656bed1a71",
   "metadata": {},
   "outputs": [],
   "source": []
  },
  {
   "cell_type": "code",
   "execution_count": null,
   "id": "8c4e748b-e8e7-42da-a878-cdc5cbeec0d4",
   "metadata": {},
   "outputs": [],
   "source": []
  },
  {
   "cell_type": "code",
   "execution_count": null,
   "id": "1282dfb5-c75f-46e7-a1a8-6fa8d4ae1fdc",
   "metadata": {},
   "outputs": [],
   "source": []
  },
  {
   "cell_type": "code",
   "execution_count": null,
   "id": "d958415b-62e1-49f4-9161-460a9de6eaeb",
   "metadata": {},
   "outputs": [],
   "source": []
  }
 ],
 "metadata": {
  "kernelspec": {
   "display_name": "Python 3 (ipykernel)",
   "language": "python",
   "name": "python3"
  },
  "language_info": {
   "codemirror_mode": {
    "name": "ipython",
    "version": 3
   },
   "file_extension": ".py",
   "mimetype": "text/x-python",
   "name": "python",
   "nbconvert_exporter": "python",
   "pygments_lexer": "ipython3",
   "version": "3.8.13"
  }
 },
 "nbformat": 4,
 "nbformat_minor": 5
}
