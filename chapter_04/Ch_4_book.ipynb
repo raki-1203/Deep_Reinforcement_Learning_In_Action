{
 "cells": [
  {
   "cell_type": "markdown",
   "id": "739bfaab-19a0-4a89-9a40-ccf73f69aac3",
   "metadata": {},
   "source": [
    "# Chapter 4 - Policy Gradient Methods"
   ]
  },
  {
   "cell_type": "markdown",
   "id": "e19c6877-21cb-4e5e-a2f3-8c713326640e",
   "metadata": {},
   "source": [
    "## 3. OpenAI Gym 다루기"
   ]
  },
  {
   "cell_type": "code",
   "execution_count": 14,
   "id": "46a7808c-e872-465b-b0f0-b9af4a2e8cd3",
   "metadata": {},
   "outputs": [],
   "source": [
    "import warnings\n",
    "warnings.filterwarnings(\"ignore\")"
   ]
  },
  {
   "cell_type": "code",
   "execution_count": 15,
   "id": "05bac704-b308-493d-9bed-868796b457a7",
   "metadata": {},
   "outputs": [],
   "source": [
    "import numpy as np\n",
    "import torch\n",
    "import gym\n",
    "import matplotlib.pyplot as plt"
   ]
  },
  {
   "cell_type": "markdown",
   "id": "0a78759e-04f4-4a99-9259-f6486c9acde9",
   "metadata": {},
   "source": [
    "### Listing 4.1 OpenAI Gym 환경 나열"
   ]
  },
  {
   "cell_type": "code",
   "execution_count": 6,
   "id": "969418c4-928d-4383-bec6-5ee4229fdbc4",
   "metadata": {},
   "outputs": [],
   "source": [
    "from gym import envs"
   ]
  },
  {
   "cell_type": "code",
   "execution_count": 11,
   "id": "5ef5a5ad-917a-4792-bdfb-d3fc3d79447a",
   "metadata": {},
   "outputs": [
    {
     "data": {
      "text/plain": [
       "(dict_values([EnvSpec(id='CartPole-v0', entry_point='gym.envs.classic_control.cartpole:CartPoleEnv', reward_threshold=195.0, nondeterministic=False, max_episode_steps=200, order_enforce=True, autoreset=False, disable_env_checker=False, new_step_api=False, kwargs={}, namespace=None, name='CartPole', version=0), EnvSpec(id='CartPole-v1', entry_point='gym.envs.classic_control.cartpole:CartPoleEnv', reward_threshold=475.0, nondeterministic=False, max_episode_steps=500, order_enforce=True, autoreset=False, disable_env_checker=False, new_step_api=False, kwargs={}, namespace=None, name='CartPole', version=1), EnvSpec(id='MountainCar-v0', entry_point='gym.envs.classic_control.mountain_car:MountainCarEnv', reward_threshold=-110.0, nondeterministic=False, max_episode_steps=200, order_enforce=True, autoreset=False, disable_env_checker=False, new_step_api=False, kwargs={}, namespace=None, name='MountainCar', version=0), EnvSpec(id='MountainCarContinuous-v0', entry_point='gym.envs.classic_control.continuous_mountain_car:Continuous_MountainCarEnv', reward_threshold=90.0, nondeterministic=False, max_episode_steps=999, order_enforce=True, autoreset=False, disable_env_checker=False, new_step_api=False, kwargs={}, namespace=None, name='MountainCarContinuous', version=0), EnvSpec(id='Pendulum-v1', entry_point='gym.envs.classic_control.pendulum:PendulumEnv', reward_threshold=None, nondeterministic=False, max_episode_steps=200, order_enforce=True, autoreset=False, disable_env_checker=False, new_step_api=False, kwargs={}, namespace=None, name='Pendulum', version=1), EnvSpec(id='Acrobot-v1', entry_point='gym.envs.classic_control.acrobot:AcrobotEnv', reward_threshold=-100.0, nondeterministic=False, max_episode_steps=500, order_enforce=True, autoreset=False, disable_env_checker=False, new_step_api=False, kwargs={}, namespace=None, name='Acrobot', version=1), EnvSpec(id='LunarLander-v2', entry_point='gym.envs.box2d.lunar_lander:LunarLander', reward_threshold=200, nondeterministic=False, max_episode_steps=1000, order_enforce=True, autoreset=False, disable_env_checker=False, new_step_api=False, kwargs={}, namespace=None, name='LunarLander', version=2), EnvSpec(id='LunarLanderContinuous-v2', entry_point='gym.envs.box2d.lunar_lander:LunarLander', reward_threshold=200, nondeterministic=False, max_episode_steps=1000, order_enforce=True, autoreset=False, disable_env_checker=False, new_step_api=False, kwargs={'continuous': True}, namespace=None, name='LunarLanderContinuous', version=2), EnvSpec(id='BipedalWalker-v3', entry_point='gym.envs.box2d.bipedal_walker:BipedalWalker', reward_threshold=300, nondeterministic=False, max_episode_steps=1600, order_enforce=True, autoreset=False, disable_env_checker=False, new_step_api=False, kwargs={}, namespace=None, name='BipedalWalker', version=3), EnvSpec(id='BipedalWalkerHardcore-v3', entry_point='gym.envs.box2d.bipedal_walker:BipedalWalker', reward_threshold=300, nondeterministic=False, max_episode_steps=2000, order_enforce=True, autoreset=False, disable_env_checker=False, new_step_api=False, kwargs={'hardcore': True}, namespace=None, name='BipedalWalkerHardcore', version=3), EnvSpec(id='CarRacing-v2', entry_point='gym.envs.box2d.car_racing:CarRacing', reward_threshold=900, nondeterministic=False, max_episode_steps=1000, order_enforce=True, autoreset=False, disable_env_checker=False, new_step_api=False, kwargs={}, namespace=None, name='CarRacing', version=2), EnvSpec(id='Blackjack-v1', entry_point='gym.envs.toy_text.blackjack:BlackjackEnv', reward_threshold=None, nondeterministic=False, max_episode_steps=None, order_enforce=True, autoreset=False, disable_env_checker=False, new_step_api=False, kwargs={'sab': True, 'natural': False}, namespace=None, name='Blackjack', version=1), EnvSpec(id='FrozenLake-v1', entry_point='gym.envs.toy_text.frozen_lake:FrozenLakeEnv', reward_threshold=0.7, nondeterministic=False, max_episode_steps=100, order_enforce=True, autoreset=False, disable_env_checker=False, new_step_api=False, kwargs={'map_name': '4x4'}, namespace=None, name='FrozenLake', version=1), EnvSpec(id='FrozenLake8x8-v1', entry_point='gym.envs.toy_text.frozen_lake:FrozenLakeEnv', reward_threshold=0.85, nondeterministic=False, max_episode_steps=200, order_enforce=True, autoreset=False, disable_env_checker=False, new_step_api=False, kwargs={'map_name': '8x8'}, namespace=None, name='FrozenLake8x8', version=1), EnvSpec(id='CliffWalking-v0', entry_point='gym.envs.toy_text.cliffwalking:CliffWalkingEnv', reward_threshold=None, nondeterministic=False, max_episode_steps=None, order_enforce=True, autoreset=False, disable_env_checker=False, new_step_api=False, kwargs={}, namespace=None, name='CliffWalking', version=0), EnvSpec(id='Taxi-v3', entry_point='gym.envs.toy_text.taxi:TaxiEnv', reward_threshold=8, nondeterministic=False, max_episode_steps=200, order_enforce=True, autoreset=False, disable_env_checker=False, new_step_api=False, kwargs={}, namespace=None, name='Taxi', version=3), EnvSpec(id='Reacher-v2', entry_point='gym.envs.mujoco:ReacherEnv', reward_threshold=-3.75, nondeterministic=False, max_episode_steps=50, order_enforce=True, autoreset=False, disable_env_checker=False, new_step_api=False, kwargs={}, namespace=None, name='Reacher', version=2), EnvSpec(id='Reacher-v4', entry_point='gym.envs.mujoco.reacher_v4:ReacherEnv', reward_threshold=-3.75, nondeterministic=False, max_episode_steps=50, order_enforce=True, autoreset=False, disable_env_checker=False, new_step_api=False, kwargs={}, namespace=None, name='Reacher', version=4), EnvSpec(id='Pusher-v2', entry_point='gym.envs.mujoco:PusherEnv', reward_threshold=0.0, nondeterministic=False, max_episode_steps=100, order_enforce=True, autoreset=False, disable_env_checker=False, new_step_api=False, kwargs={}, namespace=None, name='Pusher', version=2), EnvSpec(id='Pusher-v4', entry_point='gym.envs.mujoco.pusher_v4:PusherEnv', reward_threshold=0.0, nondeterministic=False, max_episode_steps=100, order_enforce=True, autoreset=False, disable_env_checker=False, new_step_api=False, kwargs={}, namespace=None, name='Pusher', version=4), EnvSpec(id='InvertedPendulum-v2', entry_point='gym.envs.mujoco:InvertedPendulumEnv', reward_threshold=950.0, nondeterministic=False, max_episode_steps=1000, order_enforce=True, autoreset=False, disable_env_checker=False, new_step_api=False, kwargs={}, namespace=None, name='InvertedPendulum', version=2), EnvSpec(id='InvertedPendulum-v4', entry_point='gym.envs.mujoco.inverted_pendulum_v4:InvertedPendulumEnv', reward_threshold=950.0, nondeterministic=False, max_episode_steps=1000, order_enforce=True, autoreset=False, disable_env_checker=False, new_step_api=False, kwargs={}, namespace=None, name='InvertedPendulum', version=4), EnvSpec(id='InvertedDoublePendulum-v2', entry_point='gym.envs.mujoco:InvertedDoublePendulumEnv', reward_threshold=9100.0, nondeterministic=False, max_episode_steps=1000, order_enforce=True, autoreset=False, disable_env_checker=False, new_step_api=False, kwargs={}, namespace=None, name='InvertedDoublePendulum', version=2), EnvSpec(id='InvertedDoublePendulum-v4', entry_point='gym.envs.mujoco.inverted_double_pendulum_v4:InvertedDoublePendulumEnv', reward_threshold=9100.0, nondeterministic=False, max_episode_steps=1000, order_enforce=True, autoreset=False, disable_env_checker=False, new_step_api=False, kwargs={}, namespace=None, name='InvertedDoublePendulum', version=4), EnvSpec(id='HalfCheetah-v2', entry_point='gym.envs.mujoco:HalfCheetahEnv', reward_threshold=4800.0, nondeterministic=False, max_episode_steps=1000, order_enforce=True, autoreset=False, disable_env_checker=False, new_step_api=False, kwargs={}, namespace=None, name='HalfCheetah', version=2), EnvSpec(id='HalfCheetah-v3', entry_point='gym.envs.mujoco.half_cheetah_v3:HalfCheetahEnv', reward_threshold=4800.0, nondeterministic=False, max_episode_steps=1000, order_enforce=True, autoreset=False, disable_env_checker=False, new_step_api=False, kwargs={}, namespace=None, name='HalfCheetah', version=3), EnvSpec(id='HalfCheetah-v4', entry_point='gym.envs.mujoco.half_cheetah_v4:HalfCheetahEnv', reward_threshold=4800.0, nondeterministic=False, max_episode_steps=1000, order_enforce=True, autoreset=False, disable_env_checker=False, new_step_api=False, kwargs={}, namespace=None, name='HalfCheetah', version=4), EnvSpec(id='Hopper-v2', entry_point='gym.envs.mujoco:HopperEnv', reward_threshold=3800.0, nondeterministic=False, max_episode_steps=1000, order_enforce=True, autoreset=False, disable_env_checker=False, new_step_api=False, kwargs={}, namespace=None, name='Hopper', version=2), EnvSpec(id='Hopper-v3', entry_point='gym.envs.mujoco.hopper_v3:HopperEnv', reward_threshold=3800.0, nondeterministic=False, max_episode_steps=1000, order_enforce=True, autoreset=False, disable_env_checker=False, new_step_api=False, kwargs={}, namespace=None, name='Hopper', version=3), EnvSpec(id='Hopper-v4', entry_point='gym.envs.mujoco.hopper_v4:HopperEnv', reward_threshold=3800.0, nondeterministic=False, max_episode_steps=1000, order_enforce=True, autoreset=False, disable_env_checker=False, new_step_api=False, kwargs={}, namespace=None, name='Hopper', version=4), EnvSpec(id='Swimmer-v2', entry_point='gym.envs.mujoco:SwimmerEnv', reward_threshold=360.0, nondeterministic=False, max_episode_steps=1000, order_enforce=True, autoreset=False, disable_env_checker=False, new_step_api=False, kwargs={}, namespace=None, name='Swimmer', version=2), EnvSpec(id='Swimmer-v3', entry_point='gym.envs.mujoco.swimmer_v3:SwimmerEnv', reward_threshold=360.0, nondeterministic=False, max_episode_steps=1000, order_enforce=True, autoreset=False, disable_env_checker=False, new_step_api=False, kwargs={}, namespace=None, name='Swimmer', version=3), EnvSpec(id='Swimmer-v4', entry_point='gym.envs.mujoco.swimmer_v4:SwimmerEnv', reward_threshold=360.0, nondeterministic=False, max_episode_steps=1000, order_enforce=True, autoreset=False, disable_env_checker=False, new_step_api=False, kwargs={}, namespace=None, name='Swimmer', version=4), EnvSpec(id='Walker2d-v2', entry_point='gym.envs.mujoco:Walker2dEnv', reward_threshold=None, nondeterministic=False, max_episode_steps=1000, order_enforce=True, autoreset=False, disable_env_checker=False, new_step_api=False, kwargs={}, namespace=None, name='Walker2d', version=2), EnvSpec(id='Walker2d-v3', entry_point='gym.envs.mujoco.walker2d_v3:Walker2dEnv', reward_threshold=None, nondeterministic=False, max_episode_steps=1000, order_enforce=True, autoreset=False, disable_env_checker=False, new_step_api=False, kwargs={}, namespace=None, name='Walker2d', version=3), EnvSpec(id='Walker2d-v4', entry_point='gym.envs.mujoco.walker2d_v4:Walker2dEnv', reward_threshold=None, nondeterministic=False, max_episode_steps=1000, order_enforce=True, autoreset=False, disable_env_checker=False, new_step_api=False, kwargs={}, namespace=None, name='Walker2d', version=4), EnvSpec(id='Ant-v2', entry_point='gym.envs.mujoco:AntEnv', reward_threshold=6000.0, nondeterministic=False, max_episode_steps=1000, order_enforce=True, autoreset=False, disable_env_checker=False, new_step_api=False, kwargs={}, namespace=None, name='Ant', version=2), EnvSpec(id='Ant-v3', entry_point='gym.envs.mujoco.ant_v3:AntEnv', reward_threshold=6000.0, nondeterministic=False, max_episode_steps=1000, order_enforce=True, autoreset=False, disable_env_checker=False, new_step_api=False, kwargs={}, namespace=None, name='Ant', version=3), EnvSpec(id='Ant-v4', entry_point='gym.envs.mujoco.ant_v4:AntEnv', reward_threshold=6000.0, nondeterministic=False, max_episode_steps=1000, order_enforce=True, autoreset=False, disable_env_checker=False, new_step_api=False, kwargs={}, namespace=None, name='Ant', version=4), EnvSpec(id='Humanoid-v2', entry_point='gym.envs.mujoco:HumanoidEnv', reward_threshold=None, nondeterministic=False, max_episode_steps=1000, order_enforce=True, autoreset=False, disable_env_checker=False, new_step_api=False, kwargs={}, namespace=None, name='Humanoid', version=2), EnvSpec(id='Humanoid-v3', entry_point='gym.envs.mujoco.humanoid_v3:HumanoidEnv', reward_threshold=None, nondeterministic=False, max_episode_steps=1000, order_enforce=True, autoreset=False, disable_env_checker=False, new_step_api=False, kwargs={}, namespace=None, name='Humanoid', version=3), EnvSpec(id='Humanoid-v4', entry_point='gym.envs.mujoco.humanoid_v4:HumanoidEnv', reward_threshold=None, nondeterministic=False, max_episode_steps=1000, order_enforce=True, autoreset=False, disable_env_checker=False, new_step_api=False, kwargs={}, namespace=None, name='Humanoid', version=4), EnvSpec(id='HumanoidStandup-v2', entry_point='gym.envs.mujoco:HumanoidStandupEnv', reward_threshold=None, nondeterministic=False, max_episode_steps=1000, order_enforce=True, autoreset=False, disable_env_checker=False, new_step_api=False, kwargs={}, namespace=None, name='HumanoidStandup', version=2), EnvSpec(id='HumanoidStandup-v4', entry_point='gym.envs.mujoco.humanoidstandup_v4:HumanoidStandupEnv', reward_threshold=None, nondeterministic=False, max_episode_steps=1000, order_enforce=True, autoreset=False, disable_env_checker=False, new_step_api=False, kwargs={}, namespace=None, name='HumanoidStandup', version=4)]),\n",
       " 44)"
      ]
     },
     "execution_count": 11,
     "metadata": {},
     "output_type": "execute_result"
    }
   ],
   "source": [
    "envs.registry.values(), len(envs.registry.values())"
   ]
  },
  {
   "cell_type": "markdown",
   "id": "e1bdd946-795b-477c-9aff-6a96d4f17b39",
   "metadata": {},
   "source": [
    "### 3.2 OpenAI Gym API"
   ]
  },
  {
   "cell_type": "markdown",
   "id": "c80b8805-a064-4831-bbb0-71c9ffe8c1e4",
   "metadata": {},
   "source": [
    "#### Listing 4.2 OpenAI Gym 의 환경 생성"
   ]
  },
  {
   "cell_type": "code",
   "execution_count": 16,
   "id": "0f6445f9-4043-4f71-b440-1fda67670d72",
   "metadata": {},
   "outputs": [],
   "source": [
    "import gym"
   ]
  },
  {
   "cell_type": "code",
   "execution_count": 17,
   "id": "2163f26a-5230-4e8e-bea9-1134f9797bcd",
   "metadata": {},
   "outputs": [],
   "source": [
    "env = gym.make('CartPole-v0')"
   ]
  },
  {
   "cell_type": "markdown",
   "id": "bb1b7ced-4cb2-4f97-b0ad-43d55ec99a42",
   "metadata": {},
   "source": [
    "#### Listing 4.3 동작 선택 및 실행"
   ]
  },
  {
   "cell_type": "code",
   "execution_count": 18,
   "id": "05cb98de-60f4-463d-a70e-a87536224630",
   "metadata": {},
   "outputs": [],
   "source": [
    "state1 = env.reset()\n",
    "action = env.action_space.sample()\n",
    "state, reward, done, info = env.step(action)"
   ]
  },
  {
   "cell_type": "markdown",
   "id": "c4f78a4c-5ab2-424d-8b1c-7712a2d8c666",
   "metadata": {},
   "source": [
    "## 4. REINFORCE 알고리즘"
   ]
  },
  {
   "cell_type": "markdown",
   "id": "f4a872e3-b08e-4bb8-8918-3349af5f0f47",
   "metadata": {},
   "source": [
    "### 4.1 정책망 구축"
   ]
  },
  {
   "cell_type": "markdown",
   "id": "5ae9367d-914c-45bf-a491-e7981a4ecc69",
   "metadata": {},
   "source": [
    "#### Listing 4.4 정책망 구축"
   ]
  },
  {
   "cell_type": "code",
   "execution_count": 19,
   "id": "08dcc5a8-1400-49c3-8f42-e7246d18b164",
   "metadata": {},
   "outputs": [],
   "source": [
    "import gym\n",
    "import numpy as np\n",
    "import torch"
   ]
  },
  {
   "cell_type": "code",
   "execution_count": 39,
   "id": "987328b3-21f8-4f12-b346-0be33489437e",
   "metadata": {},
   "outputs": [],
   "source": [
    "l1 = 4  # 입력 데이터의 길이(성분 개수)는 4이다(\"l1\" 은 layer 1, 즉 신경망의 첫 번째 층을 뜻한다).\n",
    "l2 = 150  # 중간층은 150 차원 벡터를 산출한다.\n",
    "l3 = 2  # 최종 출력은 두 동작(좌 이동, 우 이동)의 확률들을 담은 2차원 벡터이다.\n",
    "\n",
    "model = torch.nn.Sequential(\n",
    "    torch.nn.Linear(l1, l2),\n",
    "    torch.nn.LeakyReLU(),\n",
    "    torch.nn.Linear(l2, l3),\n",
    "    torch.nn.Softmax(),  # 출력층은 소프트맥스 함수를 이용해서 동작들에 관한 확률분포를 산출한다.\n",
    ")\n",
    "\n",
    "learning_rate = 0.0009\n",
    "optimizer = torch.optim.Adam(model.parameters(), lr=learning_rate)"
   ]
  },
  {
   "cell_type": "markdown",
   "id": "742b0e40-b638-4192-8ebe-48b5757deeaf",
   "metadata": {},
   "source": [
    "### 4.2 에이전트와 환경의 상호작용"
   ]
  },
  {
   "cell_type": "markdown",
   "id": "4a80c77b-96fc-4ad8-8dde-c94bff30c868",
   "metadata": {},
   "source": [
    "#### Listing 4.5 정책망을 이용한 동작 선택"
   ]
  },
  {
   "cell_type": "code",
   "execution_count": 22,
   "id": "cf70e0ef-91b4-4ad9-827c-acc4ab23f928",
   "metadata": {},
   "outputs": [],
   "source": [
    "state1 = env.reset()\n",
    "pred = model(torch.from_numpy(state1).float())  # 정책망을 실행해서 동작 확률들을 예측한다.\n",
    "action = np.random.choice(np.array([0, 1]), p=pred.data.numpy())  # 정책망이 산출한 확률분포에서 동작을 하나 추출한다.\n",
    "state2, reward, done, info = env.step(action)  # 동작을 실행해서 새 상태와 보상을 받는다. info 변수에는 환경이 제공한 정보가 담기는데, 이 예제에서는 사용하지 않는다."
   ]
  },
  {
   "cell_type": "markdown",
   "id": "85ff1787-8cda-4aab-a45d-a7f2c92b4892",
   "metadata": {},
   "source": [
    "### 4.3 모형의 훈련"
   ]
  },
  {
   "cell_type": "markdown",
   "id": "a3c7b2de-0c5b-4424-a602-90de94474992",
   "metadata": {},
   "source": [
    "#### Listing 4.6 할인된 보상 계산"
   ]
  },
  {
   "cell_type": "code",
   "execution_count": 23,
   "id": "4178d973-ddb6-466e-bd28-b00770b7ed8b",
   "metadata": {},
   "outputs": [],
   "source": [
    "def discount_rewards(rewards, gamma=0.99):\n",
    "    lenr = len(rewards)\n",
    "    disc_return = torch.pow(gamma, torch.arange(lenr).float()) * rewards  # 지수적으로 감소하는 보상들을 계산한다.\n",
    "    disc_return /= disc_return.max()  # 수치 안정성을 위해 보상들을 [0, 1] 구간으로 정규화한다.\n",
    "    return disc_return"
   ]
  },
  {
   "cell_type": "markdown",
   "id": "9013b16f-f1ad-46d5-acfc-59407d4c5d67",
   "metadata": {},
   "source": [
    "#### Listing 4.7 손실함수 정의"
   ]
  },
  {
   "cell_type": "code",
   "execution_count": 24,
   "id": "eb3e9b82-6027-4643-a8b6-674ee8929362",
   "metadata": {},
   "outputs": [],
   "source": [
    "def loss_fn(preds, r):  # 이 함수는 취한 동작들의 확률들을 담은 배열과 할인된 보상들을 담은 배열을 받는다.\n",
    "    return -1 * torch.sum(r * torch.log(preds))  # 각 동작의 로그 확률에 할인된 보상을 곱한 값들을 모두 합한 후 부호를 바꾼 것이 손실값이다."
   ]
  },
  {
   "cell_type": "markdown",
   "id": "2846a747-fd2b-47eb-9a73-3fbb9e84091d",
   "metadata": {},
   "source": [
    "### 4.4 전체 훈련 루프"
   ]
  },
  {
   "cell_type": "markdown",
   "id": "e9d73075-24fa-40ed-b1b0-c9cdd30a4d97",
   "metadata": {},
   "source": [
    "#### Listing 4.8 REINFORCE 훈련 루프"
   ]
  },
  {
   "cell_type": "code",
   "execution_count": 47,
   "id": "d2647070-a767-4566-a62b-974661ad96eb",
   "metadata": {},
   "outputs": [],
   "source": [
    "l1 = 4  # 입력 데이터의 길이(성분 개수)는 4이다(\"l1\" 은 layer 1, 즉 신경망의 첫 번째 층을 뜻한다).\n",
    "l2 = 150  # 중간층은 150 차원 벡터를 산출한다.\n",
    "l3 = 2  # 최종 출력은 두 동작(좌 이동, 우 이동)의 확률들을 담은 2차원 벡터이다.\n",
    "\n",
    "model = torch.nn.Sequential(\n",
    "    torch.nn.Linear(l1, l2),\n",
    "    torch.nn.LeakyReLU(),\n",
    "    torch.nn.Linear(l2, l3),\n",
    "    torch.nn.Softmax(),  # 출력층은 소프트맥스 함수를 이용해서 동작들에 관한 확률분포를 산출한다.\n",
    ")\n",
    "\n",
    "learning_rate = 0.0009\n",
    "optimizer = torch.optim.Adam(model.parameters(), lr=learning_rate)"
   ]
  },
  {
   "cell_type": "code",
   "execution_count": 48,
   "id": "b8afeb67-e16c-4e00-897e-a091670d42f3",
   "metadata": {},
   "outputs": [],
   "source": [
    "from tqdm import tqdm"
   ]
  },
  {
   "cell_type": "code",
   "execution_count": 49,
   "id": "c8d9cdfb-d057-441f-87a0-039653dd86aa",
   "metadata": {},
   "outputs": [
    {
     "name": "stderr",
     "output_type": "stream",
     "text": [
      "100%|██████████| 1000/1000 [00:13<00:00, 73.27it/s]\n"
     ]
    }
   ],
   "source": [
    "MAX_DUR = 200\n",
    "MAX_EPISODES = 1000\n",
    "gamma = 0.99\n",
    "score = []  # 에피소드 길이들의 목록\n",
    "\n",
    "for episode in tqdm(range(MAX_EPISODES)):\n",
    "    curr_state = env.reset()\n",
    "    done = False\n",
    "    transition = []  # 상태, 동작, 보상 튜플들의 목록\n",
    "    \n",
    "    for t in range(MAX_DUR):  # 게임 종료 또는 최대 시간 단계까지 반복한다.\n",
    "        act_prob = model(torch.from_numpy(curr_state).float())  # 동작 확률들을 얻는다.\n",
    "        action = np.random.choice(np.array([0, 1]), p=act_prob.data.numpy())  # 확률적으로 동작 하나를 선택한다.\n",
    "        prev_state = curr_state\n",
    "        curr_state, _, done, info = env.step(action)  # 환경에서 그 동작을 실행한다.\n",
    "        transition.append((prev_state, action, t+1))  # 현재 상태, 동작, 보상 튜플을 해당 목록에 저장한다.\n",
    "        if done:  # 게임에서 패배하면 루프를 벗어난다.\n",
    "            break\n",
    "            \n",
    "    ep_len = len(transition)  # 에피소드 길이를 해당 목록에 저장한다.\n",
    "    score.append(ep_len)\n",
    "    reward_batch = torch.Tensor([r for (s, a, r) in transition]).flip(dims=(0, ))  # 에피소드의 보상들을 모아서 하나의 텐서에 담는다.\n",
    "    disc_returns = discount_rewards(reward_batch)  # 할인된 보상들을 계산한다.\n",
    "    state_batch = torch.Tensor([s for (s, a, r) in transition])  # 에피소드의 상태들을 모아서 하나의 텐서에 담는다.\n",
    "    action_batch = torch.Tensor([a for (s, a, r) in transition])  # 에피소드의 동작들을 모아서 하나의 텐서에 담는다.\n",
    "    pred_batch = model(state_batch)  # 에피소드의 모든 상태에 대한 동작 확률들을 다시 계산한다.\n",
    "    prob_batch = pred_batch.gather(dim=1, index=action_batch.long().view(-1, 1)).squeeze()  # 각 상태에서 실제로 취한 동작의 확률들만 모은다.\n",
    "    loss = loss_fn(prob_batch, disc_returns)\n",
    "    optimizer.zero_grad()\n",
    "    loss.backward()\n",
    "    optimizer.step()"
   ]
  },
  {
   "cell_type": "code",
   "execution_count": 50,
   "id": "8bdcd6d1-6308-459c-adee-bcd59c459b82",
   "metadata": {},
   "outputs": [],
   "source": [
    "def running_mean(x, N=50):\n",
    "    kernel = np.ones(N)\n",
    "    conv_len = x.shape[0] - N\n",
    "    y = np.zeros(conv_len)\n",
    "    for i in range(conv_len):\n",
    "        y[i] = kernel @ x[i:i+N]\n",
    "        y[i] /= N\n",
    "    return y"
   ]
  },
  {
   "cell_type": "code",
   "execution_count": 51,
   "id": "307a7fc3-c223-4d23-b845-2077ca3ba986",
   "metadata": {},
   "outputs": [],
   "source": [
    "score = np.array(score)\n",
    "avg_score = running_mean(score, 50)"
   ]
  },
  {
   "cell_type": "code",
   "execution_count": 52,
   "id": "2151921b-6d00-4bd1-a1ef-30032be2c99b",
   "metadata": {},
   "outputs": [
    {
     "data": {
      "text/plain": [
       "array([ 19.8 ,  19.74,  19.56,  19.58,  19.48,  19.28,  19.36,  19.36,\n",
       "        19.4 ,  19.38,  19.32,  18.86,  18.88,  18.9 ,  19.2 ,  19.18,\n",
       "        19.26,  19.34,  19.22,  18.9 ,  19.32,  18.44,  18.34,  18.48,\n",
       "        18.42,  18.44,  18.4 ,  18.26,  18.2 ,  18.3 ,  18.44,  18.44,\n",
       "        18.2 ,  18.42,  18.6 ,  19.02,  18.96,  19.02,  18.64,  18.6 ,\n",
       "        18.66,  18.68,  18.66,  18.88,  19.28,  19.  ,  18.54,  18.48,\n",
       "        18.5 ,  18.66,  18.68,  18.5 ,  18.5 ,  18.52,  18.58,  18.62,\n",
       "        18.58,  19.14,  19.12,  19.18,  19.2 ,  19.3 ,  19.24,  19.26,\n",
       "        18.96,  18.7 ,  18.44,  18.  ,  18.08,  18.1 ,  18.  ,  18.24,\n",
       "        18.58,  18.5 ,  18.6 ,  18.96,  18.9 ,  18.98,  19.36,  19.36,\n",
       "        19.36,  19.46,  19.14,  18.96,  19.02,  18.9 ,  18.94,  18.68,\n",
       "        18.74,  18.84,  18.74,  18.8 ,  19.04,  19.26,  18.9 ,  18.66,\n",
       "        18.86,  18.86,  18.8 ,  18.6 ,  18.5 ,  18.6 ,  19.12,  19.16,\n",
       "        19.04,  18.94,  19.68,  19.34,  19.34,  19.24,  19.3 ,  19.34,\n",
       "        19.4 ,  19.5 ,  19.54,  19.54,  20.2 ,  20.38,  20.32,  20.46,\n",
       "        20.22,  20.54,  20.76,  20.76,  20.68,  20.68,  21.28,  21.42,\n",
       "        21.06,  20.96,  20.98,  20.92,  20.86,  20.76,  20.68,  20.66,\n",
       "        21.34,  21.32,  21.52,  21.64,  22.16,  22.08,  21.74,  21.7 ,\n",
       "        21.98,  22.32,  22.42,  22.5 ,  22.58,  22.74,  22.7 ,  23.22,\n",
       "        22.72,  22.88,  23.46,  23.84,  23.16,  23.2 ,  23.16,  23.46,\n",
       "        23.36,  23.18,  23.78,  23.94,  24.06,  24.3 ,  23.86,  24.16,\n",
       "        25.24,  25.14,  25.38,  25.64,  25.  ,  25.4 ,  25.84,  25.72,\n",
       "        25.2 ,  25.36,  25.42,  25.5 ,  25.88,  26.16,  26.7 ,  27.36,\n",
       "        27.32,  27.44,  26.68,  27.18,  28.56,  28.92,  28.78,  28.92,\n",
       "        28.92,  28.74,  29.34,  29.82,  30.7 ,  31.  ,  31.44,  31.4 ,\n",
       "        32.82,  32.18,  32.58,  32.72,  32.44,  32.2 ,  32.26,  32.72,\n",
       "        33.52,  33.34,  34.84,  34.94,  34.34,  35.06,  35.3 ,  35.46,\n",
       "        35.64,  36.  ,  35.52,  35.86,  35.96,  38.92,  39.38,  39.08,\n",
       "        39.14,  39.76,  40.8 ,  41.  ,  41.16,  41.3 ,  41.34,  41.04,\n",
       "        41.  ,  40.74,  41.82,  41.82,  42.04,  42.78,  41.46,  41.94,\n",
       "        41.84,  43.74,  43.9 ,  44.34,  43.98,  43.68,  43.32,  43.44,\n",
       "        44.6 ,  44.74,  44.2 ,  44.56,  44.46,  44.16,  44.58,  44.92,\n",
       "        45.72,  45.62,  46.56,  49.14,  48.74,  49.44,  50.76,  50.22,\n",
       "        50.9 ,  51.  ,  51.04,  50.9 ,  50.86,  50.98,  50.98,  47.96,\n",
       "        48.58,  48.78,  49.62,  49.94,  49.7 ,  51.4 ,  52.96,  53.7 ,\n",
       "        53.88,  55.68,  55.76,  55.56,  54.8 ,  55.44,  56.36,  55.9 ,\n",
       "        57.14,  57.12,  57.66,  56.34,  56.88,  57.06,  56.9 ,  58.14,\n",
       "        57.68,  58.3 ,  57.98,  58.4 ,  59.44,  59.68,  60.36,  61.12,\n",
       "        62.82,  63.94,  63.78,  63.86,  62.48,  60.14,  60.02,  59.9 ,\n",
       "        59.82,  59.92,  59.44,  60.16,  59.92,  59.4 ,  60.62,  60.78,\n",
       "        60.68,  62.7 ,  62.32,  63.64,  63.5 ,  62.92,  63.  ,  61.76,\n",
       "        60.48,  62.74,  63.96,  63.32,  64.06,  64.36,  65.28,  65.  ,\n",
       "        64.6 ,  64.68,  65.72,  65.32,  64.84,  65.3 ,  65.94,  66.3 ,\n",
       "        68.04,  68.06,  70.72,  71.5 ,  71.16,  70.96,  70.1 ,  71.34,\n",
       "        71.16,  70.56,  69.78,  68.68,  70.1 ,  70.34,  70.9 ,  71.38,\n",
       "        72.34,  73.18,  73.26,  73.44,  75.18,  74.5 ,  74.58,  75.48,\n",
       "        74.18,  74.04,  74.72,  73.9 ,  74.3 ,  74.58,  75.88,  76.28,\n",
       "        77.6 ,  77.54,  77.4 ,  74.72,  76.2 ,  75.34,  74.64,  75.54,\n",
       "        75.1 ,  76.78,  76.38,  76.3 ,  74.02,  74.28,  76.14,  76.34,\n",
       "        76.04,  75.28,  74.72,  74.06,  72.36,  71.88,  71.72,  71.92,\n",
       "        71.3 ,  69.78,  71.18,  72.  ,  70.94,  70.64,  69.06,  71.84,\n",
       "        71.74,  71.28,  70.44,  69.32,  68.58,  68.48,  67.02,  67.1 ,\n",
       "        67.56,  68.2 ,  68.06,  67.9 ,  68.12,  67.48,  68.88,  68.18,\n",
       "        68.68,  71.3 ,  70.92,  72.8 ,  74.04,  76.5 ,  75.04,  77.12,\n",
       "        77.18,  76.06,  76.64,  76.14,  75.84,  77.28,  77.9 ,  80.78,\n",
       "        82.38,  83.08,  84.6 ,  85.24,  86.4 ,  87.74,  88.48,  90.72,\n",
       "        90.18,  90.26,  90.74,  93.16,  93.14,  94.72,  97.52,  99.2 ,\n",
       "       101.78,  99.54, 100.96, 103.42, 104.64, 107.98, 110.56, 112.12,\n",
       "       113.76, 116.3 , 119.1 , 119.44, 120.76, 122.76, 124.08, 125.78,\n",
       "       125.16, 126.22, 126.96, 125.28, 125.14, 123.  , 125.1 , 123.4 ,\n",
       "       124.22, 124.02, 124.42, 127.02, 128.44, 129.72, 131.48, 129.82,\n",
       "       129.5 , 128.8 , 126.84, 126.38, 127.5 , 127.76, 127.56, 128.  ,\n",
       "       126.08, 123.9 , 126.2 , 128.04, 129.04, 130.02, 131.58, 132.68,\n",
       "       133.1 , 132.22, 132.74, 134.98, 134.4 , 133.74, 134.64, 132.58,\n",
       "       130.98, 131.26, 132.34, 132.88, 129.72, 128.96, 129.78, 129.08,\n",
       "       128.98, 128.2 , 127.82, 125.9 , 123.86, 125.54, 127.46, 127.32,\n",
       "       125.02, 127.18, 128.1 , 127.98, 126.88, 125.28, 123.26, 121.5 ,\n",
       "       121.64, 124.86, 126.86, 125.34, 125.98, 128.12, 126.36, 126.54,\n",
       "       126.2 , 124.86, 128.44, 129.8 , 128.96, 127.02, 128.9 , 128.9 ,\n",
       "       128.9 , 126.  , 124.46, 124.88, 124.88, 122.78, 122.34, 123.84,\n",
       "       121.3 , 121.14, 121.58, 122.9 , 123.1 , 119.48, 121.98, 121.9 ,\n",
       "       123.2 , 123.1 , 123.44, 122.26, 120.98, 122.46, 123.86, 123.86,\n",
       "       121.46, 122.68, 122.16, 120.44, 120.52, 121.7 , 125.44, 126.38,\n",
       "       129.3 , 129.42, 130.52, 130.52, 130.14, 132.36, 133.68, 132.64,\n",
       "       134.4 , 136.46, 137.66, 139.16, 139.16, 137.4 , 138.76, 139.94,\n",
       "       137.52, 134.52, 131.58, 134.48, 135.84, 137.02, 137.02, 137.26,\n",
       "       139.78, 139.78, 142.88, 143.2 , 144.84, 142.52, 142.52, 146.1 ,\n",
       "       144.84, 144.72, 142.26, 142.22, 141.38, 144.1 , 147.54, 148.68,\n",
       "       149.32, 149.32, 150.6 , 152.52, 152.86, 154.9 , 154.9 , 154.74,\n",
       "       154.74, 156.26, 153.94, 154.46, 155.04, 151.56, 153.1 , 149.7 ,\n",
       "       148.86, 149.9 , 149.9 , 148.62, 149.  , 147.22, 147.22, 149.8 ,\n",
       "       150.46, 150.44, 152.86, 153.34, 154.16, 152.42, 151.86, 152.08,\n",
       "       152.08, 153.94, 152.98, 152.98, 152.98, 152.86, 151.26, 151.58,\n",
       "       150.06, 147.3 , 147.06, 149.02, 151.48, 153.62, 153.92, 151.12,\n",
       "       151.12, 151.86, 149.28, 148.  , 147.28, 146.82, 148.62, 145.86,\n",
       "       145.  , 145.62, 144.16, 144.16, 145.92, 146.02, 146.02, 149.5 ,\n",
       "       149.5 , 151.18, 151.94, 151.94, 149.84, 151.28, 151.28, 153.8 ,\n",
       "       153.2 , 153.2 , 151.92, 152.62, 152.62, 155.14, 157.26, 158.84,\n",
       "       157.58, 158.58, 158.58, 157.78, 158.74, 157.48, 154.84, 156.86,\n",
       "       158.56, 158.06, 159.48, 162.28, 164.64, 165.32, 164.08, 162.32,\n",
       "       162.7 , 165.5 , 165.5 , 165.5 , 168.08, 169.36, 171.2 , 171.66,\n",
       "       172.34, 175.1 , 175.96, 175.96, 177.42, 175.86, 173.86, 175.4 ,\n",
       "       175.4 , 175.4 , 173.96, 174.72, 174.8 , 174.8 , 176.9 , 174.84,\n",
       "       174.84, 174.84, 173.48, 172.54, 173.82, 173.18, 173.18, 171.96,\n",
       "       171.96, 172.12, 174.12, 174.12, 174.12, 174.92, 174.92, 176.18,\n",
       "       178.82, 177.28, 177.28, 179.64, 179.22, 179.22, 178.12, 176.9 ,\n",
       "       177.34, 178.98, 179.94, 177.  , 177.  , 174.06, 173.4 , 172.88,\n",
       "       172.44, 172.44, 172.44, 172.26, 172.26, 172.26, 169.14, 170.7 ,\n",
       "       173.26, 173.26, 173.26, 173.26, 174.7 , 175.66, 174.24, 174.24,\n",
       "       174.24, 176.3 , 176.3 , 176.3 , 177.98, 178.92, 178.92, 179.56,\n",
       "       179.56, 180.78, 180.78, 180.78, 180.78, 180.78, 180.78, 180.78,\n",
       "       180.78, 180.78, 180.78, 182.32, 182.32, 182.46, 182.98, 182.98,\n",
       "       181.96, 183.18, 182.7 , 182.82, 182.82, 185.76, 185.76, 188.7 ,\n",
       "       189.36, 188.04, 188.48, 188.48, 188.48, 186.52, 186.52, 186.52,\n",
       "       187.56, 187.56, 187.56, 187.56, 187.2 , 187.2 , 187.2 , 187.2 ,\n",
       "       188.62, 188.62, 188.62, 188.62, 188.62, 187.  , 187.28, 187.28,\n",
       "       187.28, 188.56, 188.56, 188.56, 188.56, 188.56, 188.56, 188.56,\n",
       "       188.56, 187.58, 187.58, 187.58, 187.58, 187.58, 187.58, 185.44,\n",
       "       185.44, 183.74, 185.86, 185.86, 185.28, 185.28, 185.28, 185.28,\n",
       "       185.28, 184.36, 181.74, 183.1 , 183.1 , 182.3 , 182.3 , 181.9 ,\n",
       "       180.96, 180.96, 183.04, 183.04, 183.04, 183.04, 182.3 , 182.3 ,\n",
       "       180.68, 180.68, 180.68, 180.68, 180.68, 178.82, 178.82, 180.44,\n",
       "       178.02, 178.02, 178.02, 178.02, 177.4 , 177.4 , 177.4 , 177.4 ,\n",
       "       177.4 , 177.18, 177.18, 178.16, 178.16, 178.16, 178.16, 178.16,\n",
       "       178.16, 180.3 , 180.3 , 182.  , 182.  , 182.  , 183.86, 183.86,\n",
       "       183.86, 183.86, 183.86, 184.78, 187.4 , 187.88, 187.88, 188.68,\n",
       "       188.68, 190.28, 191.22, 191.22, 191.22, 191.22, 191.22, 191.22,\n",
       "       192.32, 192.32, 193.94, 193.94, 193.94, 193.94, 193.94, 195.8 ,\n",
       "       195.8 , 195.8 , 198.22, 198.22, 198.22, 198.22])"
      ]
     },
     "execution_count": 52,
     "metadata": {},
     "output_type": "execute_result"
    }
   ],
   "source": [
    "avg_score"
   ]
  },
  {
   "cell_type": "code",
   "execution_count": 53,
   "id": "92d500c6-6438-4263-84d4-82939a4ef643",
   "metadata": {},
   "outputs": [
    {
     "data": {
      "image/png": "[encoded data removed]",
      "text/plain": [
       "<Figure size 720x504 with 1 Axes>"
      ]
     },
     "metadata": {
      "needs_background": "light"
     },
     "output_type": "display_data"
    }
   ],
   "source": [
    "plt.figure(figsize=(10, 7))\n",
    "plt.xlabel('Episode Duration', fontsize=22)\n",
    "plt.ylabel('Training Epochs', fontsize=22)\n",
    "plt.plot(avg_score, color='green')\n",
    "plt.show()"
   ]
  },
  {
   "cell_type": "markdown",
   "id": "91b8dcfa-84fb-47d2-b6b1-e6a345077e6e",
   "metadata": {},
   "source": [
    "#### Listing 4.9"
   ]
  },
  {
   "cell_type": "code",
   "execution_count": 54,
   "id": "fb662f62-502d-4e4f-bb63-1fc6c28c4d30",
   "metadata": {},
   "outputs": [],
   "source": [
    "score = []\n",
    "games = 100\n",
    "done = False\n",
    "state1 = env.reset()\n",
    "for i in range(games):\n",
    "    t = 0\n",
    "    while not done:\n",
    "        pred = model(torch.from_numpy(state1).float())\n",
    "        action = np.random.choice(np.array([0, 1]), p=pred.data.numpy())\n",
    "        state2, reward, done, info = env.step(action)\n",
    "        state1 = state2\n",
    "        t += 1\n",
    "        if t > MAX_DUR:\n",
    "            break\n",
    "    state1 = env.reset()\n",
    "    done = False\n",
    "    score.append(t)\n",
    "score = np.array(score)"
   ]
  },
  {
   "cell_type": "code",
   "execution_count": 55,
   "id": "8f4e5fad-6713-40c0-a81c-9ab34161e6f6",
   "metadata": {},
   "outputs": [
    {
     "data": {
      "text/plain": [
       "<matplotlib.collections.PathCollection at 0x7f9bc72199e8>"
      ]
     },
     "execution_count": 55,
     "metadata": {},
     "output_type": "execute_result"
    },
    {
     "data": {
      "image/png": "[encoded data removed]",
      "text/plain": [
       "<Figure size 432x288 with 1 Axes>"
      ]
     },
     "metadata": {
      "needs_background": "light"
     },
     "output_type": "display_data"
    }
   ],
   "source": [
    "plt.scatter(np.arange(score.shape[0]), score)"
   ]
  },
  {
   "cell_type": "code",
   "execution_count": null,
   "id": "b42e8414-bcea-419b-9948-4952f29da08d",
   "metadata": {},
   "outputs": [],
   "source": []
  }
 ],
 "metadata": {
  "kernelspec": {
   "display_name": "Python 3",
   "language": "python",
   "name": "python3"
  },
  "language_info": {
   "codemirror_mode": {
    "name": "ipython",
    "version": 3
   },
   "file_extension": ".py",
   "mimetype": "text/x-python",
   "name": "python",
   "nbconvert_exporter": "python",
   "pygments_lexer": "ipython3",
   "version": "3.6.9"
  }
 },
 "nbformat": 4,
 "nbformat_minor": 5
}
