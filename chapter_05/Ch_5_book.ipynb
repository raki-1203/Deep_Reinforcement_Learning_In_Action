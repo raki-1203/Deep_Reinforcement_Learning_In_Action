{
 "cells": [
  {
   "cell_type": "markdown",
   "id": "a48450f2-7c34-446d-97b2-39f9ea4708a4",
   "metadata": {},
   "source": [
    "# Chapter 5 - Actor-Critic Models"
   ]
  },
  {
   "cell_type": "markdown",
   "id": "f1fd6741-3663-4de4-bf4a-0e1688d0872e",
   "metadata": {},
   "source": [
    "## 2. 분산 훈련"
   ]
  },
  {
   "cell_type": "markdown",
   "id": "23679019-5ffb-41ea-9cbb-c3b1283f0e2b",
   "metadata": {},
   "source": [
    "### Listing 5.1 간단한 다중 프로세싱 예제"
   ]
  },
  {
   "cell_type": "code",
   "execution_count": 1,
   "id": "a51edd92-82f5-4d68-b3c7-5197210f82d3",
   "metadata": {},
   "outputs": [],
   "source": [
    "import multiprocessing as mp\n",
    "import numpy as np"
   ]
  },
  {
   "cell_type": "code",
   "execution_count": 2,
   "id": "76196149-927a-4e1d-a573-2737ff0932b1",
   "metadata": {},
   "outputs": [],
   "source": [
    "def square(x):  # 이 함수는 하나의 배열을 받아서 배열의 각 성분을 제곱한다.\n",
    "    return np.square(x)  # 일련의 수들로 배열을 채운다."
   ]
  },
  {
   "cell_type": "code",
   "execution_count": 3,
   "id": "c6b6b5f7-31eb-4f8b-85c9-040546c831e8",
   "metadata": {},
   "outputs": [
    {
     "name": "stdout",
     "output_type": "stream",
     "text": [
      "[ 0  1  2  3  4  5  6  7  8  9 10 11 12 13 14 15 16 17 18 19 20 21 22 23\n",
      " 24 25 26 27 28 29 30 31 32 33 34 35 36 37 38 39 40 41 42 43 44 45 46 47\n",
      " 48 49 50 51 52 53 54 55 56 57 58 59 60 61 62 63]\n"
     ]
    }
   ],
   "source": [
    "x = np.arange(64)\n",
    "print(x)"
   ]
  },
  {
   "cell_type": "code",
   "execution_count": 4,
   "id": "1008eef7-87ec-4f3c-a383-19a040e35996",
   "metadata": {},
   "outputs": [
    {
     "data": {
      "text/plain": [
       "8"
      ]
     },
     "execution_count": 4,
     "metadata": {},
     "output_type": "execute_result"
    }
   ],
   "source": [
    "mp.cpu_count()"
   ]
  },
  {
   "cell_type": "code",
   "execution_count": 5,
   "id": "031647d1-5e19-49a7-b88f-a35a25cf121c",
   "metadata": {},
   "outputs": [
    {
     "data": {
      "text/plain": [
       "[array([ 0,  1,  4,  9, 16, 25, 36, 49]),\n",
       " array([ 64,  81, 100, 121, 144, 169, 196, 225]),\n",
       " array([256, 289, 324, 361, 400, 441, 484, 529]),\n",
       " array([576, 625, 676, 729, 784, 841, 900, 961]),\n",
       " array([1024, 1089, 1156, 1225, 1296, 1369, 1444, 1521]),\n",
       " array([1600, 1681, 1764, 1849, 1936, 2025, 2116, 2209]),\n",
       " array([2304, 2401, 2500, 2601, 2704, 2809, 2916, 3025]),\n",
       " array([3136, 3249, 3364, 3481, 3600, 3721, 3844, 3969])]"
      ]
     },
     "execution_count": 5,
     "metadata": {},
     "output_type": "execute_result"
    }
   ],
   "source": [
    "pool = mp.Pool(8)  # CPU 개수와 같은 프로세스 여덟 개짜리 다중 프로세싱 풀을 만든다.\n",
    "squared = pool.map(square, [x[8*i:8*i+8] for i in range(8)])  # 풀의 map 메서드를 이용해서 square 함수를 목록의 각 배열에 적용하고 각 결과를 하나의 목록으로 취합한다.\n",
    "squared"
   ]
  },
  {
   "cell_type": "markdown",
   "id": "a96959b9-a27d-45f4-ac54-0a71aecfd644",
   "metadata": {},
   "source": [
    "### Listing 5.2 개별 프로세스를 명시적으로 시작하는 예"
   ]
  },
  {
   "cell_type": "code",
   "execution_count": 6,
   "id": "7169b738-3a4f-4103-b7ed-a9a8546f7c39",
   "metadata": {},
   "outputs": [],
   "source": [
    "def square(i, x, queue):\n",
    "    print('In process {}'.format(i,))\n",
    "    queue.put(np.square(x))"
   ]
  },
  {
   "cell_type": "code",
   "execution_count": 7,
   "id": "d8193176-f020-4d4a-8c5e-430d0f43b69d",
   "metadata": {},
   "outputs": [
    {
     "name": "stdout",
     "output_type": "stream",
     "text": [
      "In process 0\n",
      "In process 1\n",
      "In process 2\n",
      "In process 3\n",
      "In process 4In process 5\n",
      "\n",
      "In process 6\n",
      "In process 7\n"
     ]
    },
    {
     "data": {
      "text/plain": [
       "[array([ 0,  1,  4,  9, 16, 25, 36, 49]),\n",
       " array([ 64,  81, 100, 121, 144, 169, 196, 225]),\n",
       " array([256, 289, 324, 361, 400, 441, 484, 529]),\n",
       " array([576, 625, 676, 729, 784, 841, 900, 961]),\n",
       " array([1024, 1089, 1156, 1225, 1296, 1369, 1444, 1521]),\n",
       " array([1600, 1681, 1764, 1849, 1936, 2025, 2116, 2209]),\n",
       " array([2304, 2401, 2500, 2601, 2704, 2809, 2916, 3025]),\n",
       " array([3136, 3249, 3364, 3481, 3600, 3721, 3844, 3969])]"
      ]
     },
     "execution_count": 7,
     "metadata": {},
     "output_type": "execute_result"
    }
   ],
   "source": [
    "processes = []  # 각 프로세스의 참조를 담을 목록이다.\n",
    "queue = mp.Queue()  # 프로세스들이 공유할 다중 프로세싱 대기열을 만든다.\n",
    "x = np.arange(64)  # 제곱할 수들을 목록에 채워 넣는다.\n",
    "for i in range(8):  # 여덟 개의 프로세스에서 각각 square 함수를 실행한다. 각 프로레스는 서로 다른 데이터 조각을 처리한다.\n",
    "    start_index = 8 * i\n",
    "    proc = mp.Process(target=square, args=(i, x[start_index:start_index+8], queue))\n",
    "    proc.start()\n",
    "    processes.append(proc)\n",
    "    \n",
    "for proc in processes:  # 모든 프로세스가 완료되길 기다린다.\n",
    "    proc.join()\n",
    "    \n",
    "for proc in processes:  # 모든 프로세스를 종료한다.\n",
    "    proc.terminate()\n",
    "    \n",
    "results = []\n",
    "while not queue.empty():  # 다중 프로세싱 대기열으 ㅣ항목들을 최종 결과 목록에 넣는다.\n",
    "    results.append(queue.get())\n",
    "    \n",
    "results"
   ]
  },
  {
   "cell_type": "markdown",
   "id": "347c8043-fe6a-4e88-927d-e89acd27b920",
   "metadata": {},
   "source": [
    "### Listing 5.3 온라인 이익 행위자-비평자의 의사코드"
   ]
  },
  {
   "cell_type": "markdown",
   "id": "35ca4f99-6e02-477d-8b52-e4620e34ab17",
   "metadata": {},
   "source": [
    "```python\n",
    "gamma = 0.9\n",
    "for i in epochs:  # 일정 횟수로 훈련을 반복한다.\n",
    "    state = environment.get_state()  # 환경의 현재 상태를 얻는다.\n",
    "    value = critic(state)  # 상태의 가치를 예측한다.\n",
    "    policy = actor(state)  # 상태의 동작들에 관한 확률분포를 예측한다.\n",
    "    action = policy.sample()  # 정책의 동작 확률분포에 따라 동작 하나를 추출한다.\n",
    "    next_state, reward = environment.take_action(action)\n",
    "    value_next = critic(next_state)  # 다음 상티의 가치를 예측한다.\n",
    "    advantage = reward + (gamma * value_next - value)  # 보상에 다음 상태 가치와 현재 상태 가치의 차이를 더한 값을 이익으로 둔다.\n",
    "    loss = -1 * policy.logprob(action) * advantage  # 계산된 이익에 기초해서 동작을 강화한다.\n",
    "    minimize(loss)\n",
    "```"
   ]
  },
  {
   "cell_type": "markdown",
   "id": "50ce39ee-38c7-4060-89e4-389f132f6a4f",
   "metadata": {},
   "source": [
    "### Listing 5.4 CartPole 행위자-비판자 모형"
   ]
  },
  {
   "cell_type": "code",
   "execution_count": 8,
   "id": "922833ff-60ea-490f-a589-f9f013da98c8",
   "metadata": {},
   "outputs": [
    {
     "name": "stderr",
     "output_type": "stream",
     "text": [
      "/home/heerak_son/workspace/RL/venv/lib/python3.6/site-packages/tqdm/auto.py:22: TqdmWarning: IProgress not found. Please update jupyter and ipywidgets. See https://ipywidgets.readthedocs.io/en/stable/user_install.html\n",
      "  from .autonotebook import tqdm as notebook_tqdm\n",
      "/home/heerak_son/workspace/RL/venv/lib/python3.6/site-packages/gym/core.py:26: UserWarning: \u001b[33mWARN: Gym minimally supports python 3.6 as the python foundation not longer supports the version, please update your version to 3.7+\u001b[0m\n",
      "  \"Gym minimally supports python 3.6 as the python foundation not longer supports the version, please update your version to 3.7+\"\n"
     ]
    }
   ],
   "source": [
    "import torch\n",
    "import torch.nn as nn\n",
    "import torch.optim as optim\n",
    "import torch.nn.functional as F\n",
    "import torch.multiprocessing as mp  # PyTorch 는 파이썬의 내장 multiprocessing 라이브러리를 감싼 모듈을 제공한다. API 는 동일하다.\n",
    "import numpy as np\n",
    "import gym\n",
    "import warnings\n",
    "warnings.filterwarnings('ignore')"
   ]
  },
  {
   "cell_type": "code",
   "execution_count": 9,
   "id": "81ea0535-d695-4b12-9f04-95996a6fade1",
   "metadata": {},
   "outputs": [],
   "source": [
    "class ActorCritic(nn.Module):  # 행위자와 비평자를 하나의 신경망으로 결합한 모형을 정의한다.\n",
    "    def __init__(self):\n",
    "        super(ActorCritic, self).__init__()\n",
    "        self.l1 = nn.Linear(4, 25)\n",
    "        self.l2 = nn.Linear(25, 50)\n",
    "        self.actor_lin1 = nn.Linear(50, 2)\n",
    "        self.l3 = nn.Linear(50, 25)\n",
    "        self.critic_lin1 = nn.Linear(25, 1)\n",
    "        \n",
    "    def forward(self, x):\n",
    "        x = F.normalize(x, dim=0)\n",
    "        y = F.relu(self.l1(x))\n",
    "        y = F.relu(self.l2(y))\n",
    "        actor = F.log_softmax(self.actor_lin1(y), dim=0)  # 행위자는 두 가지 동작의 로그 확률들을 출력한다.\n",
    "        c = F.relu(self.l3(y.detach()))\n",
    "        critic = torch.tanh(self.critic_lin1(c))  # 비평자는 -1 에서 +1 사이의 수치 하나를 출려갛ㄴ다.\n",
    "        return actor, critic  # 행위자의 출력과 비평자의 출력을 하나의 튜플에 담아서 돌려준다."
   ]
  },
  {
   "cell_type": "markdown",
   "id": "4999feee-eac0-4e59-8889-b854e42d8f9e",
   "metadata": {},
   "source": [
    "### Listing 5.6 주 훈련 루프"
   ]
  },
  {
   "cell_type": "code",
   "execution_count": 10,
   "id": "c2dfc046-7aa1-49ec-9041-8cbc3501a4f6",
   "metadata": {},
   "outputs": [],
   "source": [
    "def worker(t, worker_model, counter, params):\n",
    "    worker_env = gym.make('CartPole-v1')\n",
    "    worker_env.reset()\n",
    "    worker_opt = optim.Adam(lr=1e-4, params=worker_model.parameters())  # 각 프로세스는 자신만의 격리된 환경에서 에피소드를 실행하고 모형을 훈련하지만, 하나의 모형을 모든 프로세스가 공유한다.\n",
    "    worker_opt.zero_grad()\n",
    "    for i in range(params['epochs']):\n",
    "        worker_opt.zero_grad()\n",
    "        values, logprobs, rewards = run_episode(worker_env, worker_model)  # run_episode 함수는 에피소드를 실행해서 데이터를 수집한다.\n",
    "        actor_loss, critic_loss, eplen = update_params(worker_opt, values, logprobs, rewards)  # run_episode 로 수집한 데이터로 매개변수들을 한 단계 갱신한다.\n",
    "        counter.value = counter.value + 1  # counter 는 모든 프로세스가 공유하는 전역 카운터이다."
   ]
  },
  {
   "cell_type": "markdown",
   "id": "67a69408-1e0c-4d91-983b-ceabbfe52176",
   "metadata": {},
   "source": [
    "### Listing 5.7 에피소드 실행"
   ]
  },
  {
   "cell_type": "code",
   "execution_count": 11,
   "id": "516c6bb4-1a11-478e-abd4-87670a0f4655",
   "metadata": {},
   "outputs": [],
   "source": [
    "def run_episode(worker_env, worker_model):\n",
    "    state = torch.from_numpy(worker_env.env.state).float()  # NumPy 배열 형태의 환경 상태를 PyTorch 텐서로 변환한다.\n",
    "    values, logprobs, rewards = [], [], []  # 계산된 상태 가치(비평자), 로그 확률(행위자), 보상을 수집할 목록들을 초기화한다.\n",
    "    done = False\n",
    "    j = 0\n",
    "    while done == False:  # 에피소드가 끝날 때까지 플레이한다.\n",
    "        j += 1\n",
    "        policy, value = worker_model(state)  # 상태 가치와 동작들에 과한 로그 확률들을 계산한다.\n",
    "        values.append(value)\n",
    "        logits = policy.view(-1)\n",
    "        action_dist = torch.distributions.Categorical(logits=logits)\n",
    "        action = action_dist.sample()  # 행위자의 동작 로그 확률들을 이용해서 범주형 확률분포를 만들고 동작을 추출한다.\n",
    "        logprob_ = policy.view(-1)[action]\n",
    "        logprobs.append(logprob_)\n",
    "        state_, _, done, info = worker_env.step(action.detach().numpy())\n",
    "        state = torch.from_numpy(state_).float()\n",
    "        if done:  # 이 동작에 의해 에피소드가 끝났다면 보상을 -10 으로 설정하고 환경을 초기화한다.\n",
    "            reward = -10  \n",
    "            worker_env.reset()\n",
    "        else:\n",
    "            reward = 1.0\n",
    "        rewards.append(reward)\n",
    "    return values, logprobs, rewards"
   ]
  },
  {
   "cell_type": "markdown",
   "id": "1536d97d-1ff0-4b22-a6eb-7cc7561ba210",
   "metadata": {},
   "source": [
    "### Listing 5.8 손실 계산 및 최소화"
   ]
  },
  {
   "cell_type": "code",
   "execution_count": 12,
   "id": "1937de83-9872-4fa6-bd09-d29f8ad4172b",
   "metadata": {},
   "outputs": [],
   "source": [
    "def update_params(worker_opt, values, logprobs, rewards, clc=0.1, gamma=0.95):\n",
    "    # 주어진 배열 rewards, logprobs, values 를 뒤집고(성분들을 역순으로 정렬) .view(-1) 을 호출해서 평평하게 만든다(호출하는 쪽에서 1차원 배열이 아닌 텐서를 넘겨주었을 수도 있으므로).\n",
    "    rewards = torch.Tensor(rewards).flip(dims=(0,)).view(-1)  # [1, 1, 1, 1, 1, -10] -> [-10, 1, 1, 1, 1, 1]\n",
    "    logprobs = torch.stack(logprobs).flip(dims=(0,)).view(-1)\n",
    "    values = torch.stack(values).flip(dims=(0,)).view(-1)\n",
    "    \n",
    "    Returns = []\n",
    "    ret_ = torch.Tensor([0])\n",
    "    for r in range(rewards.shape[0]):  # 보상들을 차례로(원래 수집한 것과는 역순) 훑으면서 각 보상으로 수익을 계산해서 returns 배열에 넣는다.\n",
    "        ret_ = rewards[r] + gamma * ret_\n",
    "        Returns.append(ret_)\n",
    "    Returns = torch.stack(Returns).view(-1)\n",
    "    Returns = F.normalize(Returns, dim=0)\n",
    "    actor_loss = -1 * logprobs * (Returns - values.detach())  # 행위자의 손실을 계산한다. 비평자의 손실이 역전파되지 않도록 values 노드를 계산 그래프에서 떼어낸다는 점 도 주목하기 바란다.\n",
    "    critic_loss = torch.pow(values - Returns, 2)  # 비평자의 손실을 계산한다. 이 손실은 이 모형이 보상을 좀 더 잘 예측하게 만드는 효과를 낸다.\n",
    "    loss = actor_loss.sum() + clc * critic_loss.sum()  # 행위자의 손실과 비평자의 손실을 더해서 총 손실을 구하되, 비평자의 손실을 적절한 비율로 감소(할인)한다.\n",
    "    loss.backward()\n",
    "    worker_opt.step()\n",
    "    return actor_loss, critic_loss, len(rewards)"
   ]
  },
  {
   "cell_type": "markdown",
   "id": "479ea248-b5f6-4bcc-a071-9ca746923e81",
   "metadata": {},
   "source": [
    "### Listing 5.5 훈련의 분산"
   ]
  },
  {
   "cell_type": "code",
   "execution_count": 13,
   "id": "d530c6bc-01b3-4db7-b1c6-fcb8dc7ca891",
   "metadata": {},
   "outputs": [
    {
     "name": "stdout",
     "output_type": "stream",
     "text": [
      "6995 0\n"
     ]
    }
   ],
   "source": [
    "MasterNode = ActorCritic()  # 프로세스들이 공유할 전역 행위자-비평자 모형을 생성한다.\n",
    "MasterNode.share_memory()  # share_memory 메서드는 프로세스들이 모형의 매개변수들을 각자 복사하는 것이 아니라 그대로 공유하게 만든다.\n",
    "processes = []  # 프로레스 인스턴스들을 담을 목록을 초기화한다.\n",
    "params = {\n",
    "    'epochs': 1000,\n",
    "    'n_workers': 7,\n",
    "}\n",
    "counter = mp.Value('i', 0)  # multiprocessing 의 내장 공유 객체를 하나의 전역 공유 카운터로 사용한다. 'i' 는 이 공유 객체의 데이터 형식이 정수(integer)라는 뜻이다.\n",
    "\n",
    "for i in range(params['n_workers']):\n",
    "    p = mp.Process(target=worker, args=(i, MasterNode, counter, params))  # 새 프로세스를 띄워서 worker 함수를 실행한다.\n",
    "    p.start()\n",
    "    processes.append(p)\n",
    "    \n",
    "for p in processes:  # 모든 프로세스가 작업을 마치길 기다린다.\n",
    "    p.join()\n",
    "for p in processes:  # 모든 프로세스를 종료한다.\n",
    "    p.terminate()\n",
    "    \n",
    "print(counter.value, processes[1].exitcode)"
   ]
  },
  {
   "cell_type": "markdown",
   "id": "a82e8e04-c6c2-475c-b1ff-b135d9c1cadf",
   "metadata": {},
   "source": [
    "### Test the trained agent"
   ]
  },
  {
   "cell_type": "code",
   "execution_count": 16,
   "id": "4684ef03-0440-4ab1-a5cb-ff366840f8c1",
   "metadata": {},
   "outputs": [],
   "source": [
    "import os\n",
    "os.environ[\"SDL_VIDEODRIVER\"] = \"dummy\""
   ]
  },
  {
   "cell_type": "code",
   "execution_count": 24,
   "id": "bf1710d9-998d-404c-8acb-8b6c24506da6",
   "metadata": {},
   "outputs": [
    {
     "name": "stdout",
     "output_type": "stream",
     "text": [
      "1.0\n",
      "2.0\n",
      "3.0\n",
      "4.0\n",
      "5.0\n",
      "6.0\n",
      "7.0\n",
      "8.0\n",
      "9.0\n",
      "10.0\n",
      "11.0\n",
      "12.0\n",
      "13.0\n",
      "14.0\n",
      "15.0\n",
      "16.0\n",
      "17.0\n",
      "18.0\n",
      "19.0\n",
      "20.0\n",
      "21.0\n",
      "22.0\n",
      "23.0\n",
      "24.0\n",
      "25.0\n",
      "26.0\n",
      "27.0\n",
      "28.0\n",
      "29.0\n",
      "30.0\n",
      "31.0\n",
      "32.0\n",
      "33.0\n",
      "34.0\n",
      "35.0\n",
      "36.0\n",
      "37.0\n",
      "38.0\n",
      "39.0\n",
      "40.0\n",
      "41.0\n",
      "42.0\n",
      "43.0\n",
      "44.0\n",
      "45.0\n",
      "46.0\n",
      "47.0\n",
      "48.0\n",
      "49.0\n",
      "50.0\n",
      "51.0\n",
      "52.0\n",
      "53.0\n",
      "54.0\n",
      "55.0\n",
      "56.0\n",
      "57.0\n",
      "58.0\n",
      "59.0\n",
      "60.0\n",
      "61.0\n",
      "62.0\n",
      "63.0\n",
      "64.0\n",
      "65.0\n",
      "66.0\n",
      "67.0\n",
      "68.0\n",
      "69.0\n",
      "70.0\n",
      "71.0\n",
      "72.0\n",
      "73.0\n",
      "74.0\n",
      "75.0\n",
      "76.0\n",
      "77.0\n",
      "78.0\n",
      "79.0\n",
      "80.0\n",
      "81.0\n",
      "82.0\n",
      "83.0\n",
      "84.0\n",
      "85.0\n",
      "86.0\n",
      "87.0\n",
      "88.0\n",
      "89.0\n",
      "90.0\n",
      "91.0\n",
      "92.0\n",
      "93.0\n",
      "94.0\n",
      "95.0\n",
      "96.0\n",
      "97.0\n",
      "98.0\n",
      "99.0\n",
      "100.0\n"
     ]
    }
   ],
   "source": [
    "env = gym.make('CartPole-v1')\n",
    "env.reset()\n",
    "\n",
    "for i in range(100):\n",
    "    state_ = np.array(env.env.state)\n",
    "    state = torch.from_numpy(state_).float()\n",
    "    logits, value = MasterNode(state)\n",
    "    action_dist = torch.distributions.Categorical(logits=logits)\n",
    "    action = action_dist.sample()\n",
    "    state2, reward, done, info = env.step(action.detach().numpy())\n",
    "    if done:\n",
    "        print('Lost')\n",
    "        env.reset()\n",
    "    state_ = np.array(env.env.state)\n",
    "    state = torch.from_numpy(state_).float()\n",
    "    env.render()"
   ]
  },
  {
   "cell_type": "code",
   "execution_count": 21,
   "id": "5c89246f-f658-437d-9c6b-5c51f155051e",
   "metadata": {},
   "outputs": [],
   "source": [
    "import matplotlib.pyplot as plt"
   ]
  },
  {
   "cell_type": "code",
   "execution_count": 22,
   "id": "42887919-b738-41d7-a02e-3be702f8eac4",
   "metadata": {},
   "outputs": [
    {
     "data": {
      "image/png": "[encoded data removed]",
      "text/plain": [
       "<Figure size 720x504 with 1 Axes>"
      ]
     },
     "metadata": {
      "needs_background": "light"
     },
     "output_type": "display_data"
    }
   ],
   "source": [
    "plt.figure(figsize=(10, 7))\n",
    "plt.xlabel(\"Epochs\", fontsize=22)\n",
    "plt.ylabel('Average Time', fontsize=22)\n",
    "plt.plot(result)\n",
    "plt.show()"
   ]
  },
  {
   "cell_type": "code",
   "execution_count": null,
   "id": "8f3b82c0-3025-4b1c-b144-b2668aaa71be",
   "metadata": {},
   "outputs": [],
   "source": []
  },
  {
   "cell_type": "code",
   "execution_count": null,
   "id": "be81295e-d12c-4ab3-ac51-cad6fcfc26d8",
   "metadata": {},
   "outputs": [],
   "source": []
  },
  {
   "cell_type": "code",
   "execution_count": null,
   "id": "c3f776cf-2be1-439b-ad9d-c06595a389a3",
   "metadata": {},
   "outputs": [],
   "source": []
  },
  {
   "cell_type": "code",
   "execution_count": null,
   "id": "1522d7ac-200c-4347-b847-5152d7d4e8ec",
   "metadata": {},
   "outputs": [],
   "source": []
  },
  {
   "cell_type": "code",
   "execution_count": null,
   "id": "78af0b05-a412-4e58-871a-4f6e1551108e",
   "metadata": {},
   "outputs": [],
   "source": []
  },
  {
   "cell_type": "code",
   "execution_count": null,
   "id": "e06c7560-f6b3-45bc-b8b5-8eaeab3f1085",
   "metadata": {},
   "outputs": [],
   "source": []
  },
  {
   "cell_type": "code",
   "execution_count": null,
   "id": "d4ff4805-f772-4623-b5c0-6282c024a6b5",
   "metadata": {},
   "outputs": [],
   "source": []
  },
  {
   "cell_type": "code",
   "execution_count": null,
   "id": "396e4b7b-31cd-427a-84bf-ba1d8a268fda",
   "metadata": {},
   "outputs": [],
   "source": []
  },
  {
   "cell_type": "code",
   "execution_count": null,
   "id": "b5577698-c937-4cb0-ae4d-611de851522f",
   "metadata": {},
   "outputs": [],
   "source": []
  },
  {
   "cell_type": "code",
   "execution_count": null,
   "id": "a94c3c70-855e-40d1-8a0c-ec1c07bd27e0",
   "metadata": {},
   "outputs": [],
   "source": []
  },
  {
   "cell_type": "code",
   "execution_count": null,
   "id": "38e74c4a-57a7-4357-ae92-45f5bca59f16",
   "metadata": {},
   "outputs": [],
   "source": []
  },
  {
   "cell_type": "code",
   "execution_count": null,
   "id": "a46746e0-7865-48df-b54e-f13eba814eb4",
   "metadata": {},
   "outputs": [],
   "source": []
  },
  {
   "cell_type": "code",
   "execution_count": null,
   "id": "8e845fc3-8e4a-4671-aa3c-b985b02de6a3",
   "metadata": {},
   "outputs": [],
   "source": []
  },
  {
   "cell_type": "code",
   "execution_count": null,
   "id": "70ad33cb-06f1-404f-a008-90ee830a0f23",
   "metadata": {},
   "outputs": [],
   "source": []
  },
  {
   "cell_type": "code",
   "execution_count": null,
   "id": "57d37ae6-bc97-49e6-8c29-6ac272bb0c4e",
   "metadata": {},
   "outputs": [],
   "source": []
  },
  {
   "cell_type": "code",
   "execution_count": null,
   "id": "563552f1-b252-46a4-9308-f9d9942b9a19",
   "metadata": {},
   "outputs": [],
   "source": []
  },
  {
   "cell_type": "code",
   "execution_count": null,
   "id": "1e4fa7b6-1533-4e4d-9dc3-f94848f8b428",
   "metadata": {},
   "outputs": [],
   "source": []
  },
  {
   "cell_type": "code",
   "execution_count": null,
   "id": "29dc088d-8960-4829-97b3-7b84672286a8",
   "metadata": {},
   "outputs": [],
   "source": []
  },
  {
   "cell_type": "code",
   "execution_count": null,
   "id": "d84a4182-6989-4f4f-8df3-42b2820f84d1",
   "metadata": {},
   "outputs": [],
   "source": []
  },
  {
   "cell_type": "code",
   "execution_count": null,
   "id": "a0f3260c-7b1b-4bd7-915f-5c224a916b96",
   "metadata": {},
   "outputs": [],
   "source": []
  },
  {
   "cell_type": "code",
   "execution_count": null,
   "id": "c16c1d63-97d9-4218-abd3-1db0fd38d3b0",
   "metadata": {},
   "outputs": [],
   "source": []
  },
  {
   "cell_type": "code",
   "execution_count": null,
   "id": "092bbc84-6fe7-47c9-b4a0-e929cde42a50",
   "metadata": {},
   "outputs": [],
   "source": []
  }
 ],
 "metadata": {
  "kernelspec": {
   "display_name": "Python 3",
   "language": "python",
   "name": "python3"
  },
  "language_info": {
   "codemirror_mode": {
    "name": "ipython",
    "version": 3
   },
   "file_extension": ".py",
   "mimetype": "text/x-python",
   "name": "python",
   "nbconvert_exporter": "python",
   "pygments_lexer": "ipython3",
   "version": "3.6.9"
  }
 },
 "nbformat": 4,
 "nbformat_minor": 5
}
